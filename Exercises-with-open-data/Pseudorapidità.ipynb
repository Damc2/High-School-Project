{
 "cells": [
  {
   "cell_type": "markdown",
   "metadata": {},
   "source": [
    "### Background"
   ]
  },
  {
   "cell_type": "markdown",
   "metadata": {},
   "source": [
    "Questo notebook include un esempio di esercizio sull'effetto della pseudorapidità alla risoluzione del rivelatore CMS. L'esercizio consiste in una parte teorica e una parte pratica."
   ]
  },
  {
   "cell_type": "markdown",
   "metadata": {},
   "source": [
    "# L'effetto della pseudorapidità $\\eta$ sulla risoluzione del rivelatore CMS"
   ]
  },
  {
   "cell_type": "markdown",
   "metadata": {},
   "source": [
    "\n",
    "In questo esercizio viene introdotto il concetto di pseudorapidità. Con i dati reali raccolti dal rivelatore CMS si osserva l'effetto della pseudorapidità sulla risoluzione dello stesso."
   ]
  },
  {
   "cell_type": "markdown",
   "metadata": {},
   "source": [
    "### Pseudorapidità"
   ]
  },
  {
   "cell_type": "markdown",
   "metadata": {},
   "source": [
    "Nella fisica sperimentale delle particelle la pseudorapidità $\\eta$ è una coordinata spaziale usata per descrivere l'angolo tra una particella e il fascio di particelle. La pseudorapidità è determinata dall'equazione\n",
    "\n",
    "$$ \\eta \\equiv -\\ln(\\tan(\\frac{\\theta}{2})), $$\n",
    "\n",
    "dove $ \\theta$ è l'angolo di una particella rispetto al fascio di particelle.\n",
    "\n",
    "La pseudorapidità descrive quindi l'angolo tra una particella rilevata e il fascio di particelle. Nell'immagine qui sotto il fascio di particelle andrebbe orizzontalmente da sinistra a destra. Quindi con i grandi valori di $\\eta$ una particella creata nella collisione si discosterebbe di poco dalla direzione del fascio di particelle. Con i piccoli valori di $\\eta$ la deviazione è maggiore.\n",
    "\n",
    "\n",
    "<img src=\"../Images/Pseudorapidity_plot.png\" alt=\"Image of pseudorapidity values\" style=\"height: 200px\">\n",
    "\n",
    "(Image: Wikimedia user Mets501, Own work, CC BY-SA 3.0, https://commons.wikimedia.org/w/index.php?curid=20392149)\n",
    "<br>\n",
    "<br>\n",
    "<br>"
   ]
  },
  {
   "cell_type": "markdown",
   "metadata": {},
   "source": [
    "### L'effetto della pseudorapidità sulla risoluzione delle misure"
   ]
  },
  {
   "cell_type": "markdown",
   "metadata": {},
   "source": [
    "La pseudorapidità influenza la risoluzione della misura della quantità di moto. Le particelle che colpiscono nella parte centrale del rivelatore (nel barrel) possono essere misurate più accuratamente delle particelle che colpiscono alla fine del rivelatore (nell'endcap).\n",
    "\n",
    "La ragione di ciò è probabilmente che le particelle che sono volate verso l'endcap hanno incontrato più materia (altre particelle) rispetto alle particelle colpite nel barrel. L'interazione con altra materia causerà un'imprecisione nelle misurazioni delle particelle colpite nell'endcap.\n",
    "\n",
    "Nell'immagine qui sotto c'è una rappresentazione delle due particelle create nell'evento di collisione. Una colpisce il barile del rivelatore e un'altra colpisce l'endcap. Ci sono anche i valori delle pseudorapidità $\\eta$ e gli angoli $\\theta$ delle particelle.\n",
    "\n",
    "\n",
    "<img src=\"../Images/Sylinder.png\" alt=\"Draft of the CMS detector\" style=\"height: 300px\">"
   ]
  },
  {
   "cell_type": "markdown",
   "metadata": {},
   "source": [
    "### Diamoci dentro!"
   ]
  },
  {
   "cell_type": "markdown",
   "metadata": {},
   "source": [
    "Cominciamo ad osservare come l'effetto della pseudorapidità sulla risoluzione della misura può essere visto con i dati reali raccolti da CMS.\n",
    "\n",
    "Useremo i dati raccolti nel 2011 [1]. Dal dataset primario sono stati selezionati 10851 eventi di collisione con esattamente due muoni nel file \"Zmumu_Run2011A_masses.csv\". (La selezione è stata fatta con il codice che è disponibile su https://github.com/tpmccauley/dimuon-filter.) Le quantità di moto e le energie misurate dei muoni sono scritte nel file.\n",
    "\n",
    "Dai valori misurati di momenti ed energie, viene calcolata la massa invariante dei muoni per ogni evento, tramite l'equazione\n",
    "\n",
    "$$ M = \\sqrt{(E_1 + E_2)^2-(\\vec{p_1} + \\vec{p_2})^2}. $$\n",
    "\n",
    "Nell'equazione $E_1$ e $E_2$ sono le energie dei muoni e $vec{p_1}$ e $vec{p_2}$ i momenti dei muoni.\n",
    "\n",
    "Se la coppia di muoni proviene dal decadimento del bosone Z, la massa invariante calcolata per quella coppia di muoni è uguale alla massa fisica del bosone Z (91,1876 GeV, [Particle Data Group](http://pdg.lbl.gov/2012/listings/rpp2012-list-z-boson.pdf)). Se i due muoni provengono da qualche altro processo (ci sono molti processi diversi nelle collisioni di particelle) allora la massa invariante calcolata per loro avrà un altro valore.\n",
    "\n",
    "Osserviamo le masse invarianti calcolate per diversi eventi tracciandone un istogramma. L'istogramma mostra in quanti eventi il valore della massa invariante si è trovato in un certo intervallo di valori. Con l'istogramma si può vedere quanto vicini alla massa del bosone Z (91,1876 GeV) saranno i diversi valori di massa invariante.\n",
    "\n",
    "\n",
    "[1]  CMS collaboration (2016). DoubleMu dataset primario in formato AOD dalla RunA del 2011 (/DoubleMu/Run2011A-12Oct2013-v1/AOD). CERN Open Data Portal. DOI: [10.7483/OPENDATA.CMS.RZ34.QR6N](http://doi.org/10.7483/OPENDATA.CMS.RZ34.QR6N)."
   ]
  },
  {
   "cell_type": "markdown",
   "metadata": {},
   "source": [
    "### 1) Selezione degli eventi"
   ]
  },
  {
   "cell_type": "markdown",
   "metadata": {},
   "source": [
    "<img src=\"../Images/Pseudorapidity_plot.png\" alt=\"Image of pseudorapidity values\" style=\"height: 200px\">\n",
    "\n",
    "(Immagine: Wikimedia user Mets501, Own work, CC BY-SA 3.0, https://commons.wikimedia.org/w/index.php?curid=20392149)\n",
    "\n",
    "Per prima cosa selezioneremo da tutti gli eventi in due gruppi gli eventi in cui la pseudorapidità dei due muoni è stata relativamente alta (es. $\\eta$ > 1,52) e relativamente bassa (es. $\\eta$ < 0,45). La selezione è fatta con il codice qui sotto. Vogliamo circa la stessa quantità di eventi in entrambi i gruppi in modo che il confronto possa essere affidabile."
   ]
  },
  {
   "cell_type": "code",
   "execution_count": 1,
   "metadata": {},
   "outputs": [
    {
     "name": "stdout",
     "output_type": "stream",
     "text": [
      "Numero di tutti gli eventi =  10851\n",
      "Numero degli eventi in cui la pseudorapidità di entrambi i muoni è alta =  615\n",
      "Numero degli eventi in cui la pseudorapidità di entrambi i muoni è bassa =  603\n"
     ]
    }
   ],
   "source": [
    "import pandas as pd\n",
    "import numpy as np\n",
    "import matplotlib.pyplot as plt\n",
    "\n",
    "# Creiamo un nuovo DataFrame dal file \"Zmumu_Run2011A_masses.csv\"\n",
    "dataset = pd.read_csv('../Data/Zmumu_Run2011A_masses.csv')\n",
    "\n",
    "# Settiamo le condizioni per alte e basse eta. \n",
    "# Possono essere cambiate, ma bisogna selezionare lo stesso numero di eventi in ciascun gruppo.\n",
    "cond1 = 1.52\n",
    "cond2 = 0.45\n",
    "\n",
    "# Creiamo i due DataFrame, sia per eta alte che basse.\n",
    "alte_eta = dataset[(abs(dataset.eta1) > cond1) & (abs(dataset.eta2) > cond1)]\n",
    "basse_eta = dataset[(abs(dataset.eta1) < cond2) & (abs(dataset.eta2) < cond2)]\n",
    "\n",
    "print('Numero di tutti gli eventi = ',  len(dataset))\n",
    "print('Numero degli eventi in cui la pseudorapidità di entrambi i muoni è alta = ', len(alte_eta))\n",
    "print('Numero degli eventi in cui la pseudorapidità di entrambi i muoni è bassa = ', len(basse_eta))\n"
   ]
  },
  {
   "cell_type": "markdown",
   "metadata": {},
   "source": [
    "### 2) Creare gli istogrammi"
   ]
  },
  {
   "cell_type": "markdown",
   "metadata": {},
   "source": [
    "Ora creiamo separatamente gli istogrammi delle masse invarianti per gli eventi con le pseudorapidità alte e basse, in modo da confrontare queste due situazioni."
   ]
  },
  {
   "cell_type": "markdown",
   "metadata": {},
   "source": [
    "### Istogrammi per eventi con alte $\\eta$"
   ]
  },
  {
   "cell_type": "markdown",
   "metadata": {},
   "source": [
    "Iniziamo con gli eventi in cui le pseudorapidità dei muoni sono __alte__."
   ]
  },
  {
   "cell_type": "code",
   "execution_count": 2,
   "metadata": {},
   "outputs": [
    {
     "data": {
      "image/png": "[encoded data removed]",
      "text/plain": [
       "<Figure size 432x288 with 1 Axes>"
      ]
     },
     "metadata": {
      "needs_background": "light"
     },
     "output_type": "display_data"
    }
   ],
   "source": [
    "# Salviamo le masse invarianti nella variabile \"massa_inv1\".\n",
    "massa_inv1 = alte_eta['M']\n",
    "\n",
    "# Creiamo l'istogramma con massa_inv1. Settiamo i bins e il range.\n",
    "plt.hist(massa_inv1, bins=120, range=(60,120))\n",
    "\n",
    "# Diamo un titolo agli assi e alla figura.\n",
    "plt.xlabel('Massa invariante [GeV]')\n",
    "plt.ylabel('Numero di eventi per bin')\n",
    "plt.title('Istogramma delle masse invarianti per gli eventi in cui la \\n pseudorapidità di entrambi i muoni è alta\\n')\n",
    "plt.show()\n",
    "\n"
   ]
  },
  {
   "cell_type": "markdown",
   "metadata": {},
   "source": [
    "### Istogrammi per eventi con basse $\\eta$"
   ]
  },
  {
   "cell_type": "markdown",
   "metadata": {},
   "source": [
    "Come sopra, plottiamo l'istogramma delle masse invarianti per gli eventi in cui le pseudorapidità dei muoni sono __basse__."
   ]
  },
  {
   "cell_type": "code",
   "execution_count": 3,
   "metadata": {},
   "outputs": [
    {
     "data": {
      "image/png": "[encoded data removed]",
      "text/plain": [
       "<Figure size 432x288 with 1 Axes>"
      ]
     },
     "metadata": {
      "needs_background": "light"
     },
     "output_type": "display_data"
    }
   ],
   "source": [
    "# Salviamo le masse invarianti nella variabile \"massa_inv2\".\n",
    "massa_inv2 = basse_eta['M']\n",
    "\n",
    "# Creiamo l'istogramma con massa_inv2. Settiamo i bins e il range.\n",
    "plt.hist(massa_inv2, bins=120, range=(60,120))\n",
    "\n",
    "# Diamo un titolo agli assi e alla figura.\n",
    "plt.xlabel('Massa invariante [GeV]')\n",
    "plt.ylabel('Numero di eventi per bin')\n",
    "plt.title('Istogramma delle masse invarianti per gli eventi in cui la \\n pseudorapidità di entrambi i muoni è bassa\\n')\n",
    "plt.show()\n",
    "\n"
   ]
  },
  {
   "cell_type": "markdown",
   "metadata": {},
   "source": [
    "### 3) Esercizio"
   ]
  },
  {
   "cell_type": "markdown",
   "metadata": {},
   "source": [
    "Ora abbiamo creato dai dati reali CMS i due istogrammi delle masse invarianti. Con l'aiuto degli istogrammi e della parte teorica del notebook pensa alle seguenti domande:\n",
    "\n",
    "__In che modo puoi vedere l'effetto della pseudorapidità sulla risoluzione di misura del rivelatore CMS?__\n",
    "\n",
    "__I tuoi risultati sono coerenti con quelli previsti dalla teoria?__\n",
    "\n",
    "Dopo aver risposto alle domande puoi provare a cambiare le condizioni per le pseudorapidità alte e basse nella prima cella del codice. Le condizioni sono chiamate _cond1_ e _cond2_. Assicuratevi di scegliere le condizioni in modo che ci sia quasi la stessa quantità di eventi in entrambi i gruppi.\n",
    "\n",
    "Dopo le modifiche eseguite nuovamente il codice. Come influiscono le modifiche sul numero di eventi? E sugli istogrammi?"
   ]
  }
 ],
 "metadata": {
  "kernelspec": {
   "display_name": "Python 3 (ipykernel)",
   "language": "python",
   "name": "python3"
  },
  "language_info": {
   "codemirror_mode": {
    "name": "ipython",
    "version": 3
   },
   "file_extension": ".py",
   "mimetype": "text/x-python",
   "name": "python",
   "nbconvert_exporter": "python",
   "pygments_lexer": "ipython3",
   "version": "3.9.6"
  }
 },
 "nbformat": 4,
 "nbformat_minor": 4
}
