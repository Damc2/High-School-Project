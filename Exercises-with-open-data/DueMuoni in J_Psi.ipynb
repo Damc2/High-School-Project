{
 "cells": [
  {
   "cell_type": "markdown",
   "metadata": {
    "colab_type": "text",
    "id": "uZbmugoVuaUw",
    "tags": []
   },
   "source": [
    "# Scoprire le particelle con i CERN Open Data\n",
    "\n",
    "Il Large Hadron Collider (LHC) al CERN, a Ginevra, è diventato famoso per aver scoperto il Bosone di Higgs nel 2012. Durante questo task, userai i dati reali dell'esperimento CMS all'LHC per imparare qualcosa su come è stato fatto e, sperabilmente, scoprire una tua particella!\n",
    "\n",
    "\n",
    "\n",
    "## Collisioni di particelle\n",
    "\n",
    "L'LHC sta cercando di capire la struttura della materia facendo scontrare fasci di protoni ad una velocità molto vicina a quella della luce. L'energia coinvolta in queste collisioni produce uno sciame di particelle di tutti i tipi. I rivelatori CMS e ATLAS rivelano le particelle prodotte in queste collisioni e misurano le loro proprietà. La velocità a cui sono in grado di fare questo è incredibile, l'LHC produce 40 000 000 di collisioni ogni secondo!\n",
    "\n",
    "Alcune delle particelle prodotte nelle collisioni (per esempio elettroni e muoni) possono essere misurate direttamente dai rivelatori. Molte delle particelle più esotiche e interessanti (per esempio il famoso bosone di Higgs), tuttavia, vivono per un tempo incredibilmente breve e si trasformano (decadono) in altre particelle prima che i rivelatori possano rilevarle. Quindi come possiamo dire che erano lì?\n",
    "\n",
    "\n",
    "## A caccia del J/$\\Psi$\n",
    "\n",
    "\n",
    "Andremo a caccia di prove di una di queste particelle dalla vita molto breve, chiamata J/𝜓\n",
    ". Composta da un quark charm e uno anticharm legati insieme, la sua esistenza è prevista dal modello standard della fisica delle particelle, ma ogni volta che ne viene creata una, vive in media solo 7,2⋅10^(-21) s prima di trasformarsi in altre particelle. Questo intervallo è troppo breve perché possa essere registrato nei rivelatori dell'LHC. Fortunatamente, però, uno dei modi in cui il J/𝜓 può decadere è in una coppia muone-antimuone e CMS può rilevare questi muoni. L'unico problema è che i rivelatori vedranno migliaia di muoni per ogni collisione e solo alcuni di essi saranno stati prodotti da un J/𝜓. Dobbiamo risolvere questo problema prima di poter affermare di avere prove sperimentali dell'esistenza del J/𝜓\n",
    "\n",
    "\n",
    "## Massa Invariante m\n",
    "\n",
    "C'è un trucco che i fisici delle particelle possono usare quando analizzano i dati prodotti dai rivelatori. Combinando la quantità di moto e l'energia di una coppia di particelle rilevate in un particolar modo, è possibile calcolare la quantità nota come \"Massa Invariante\". Se le due particelle sono state effettivamente prodotte dal decadimento di un'altra particella, questo numero ti dirà la massa di quella particella (in unità di 𝐺𝑒𝑉/𝑐^2). Se le nostre collisioni stanno producendo molte particelle J/𝜓 allora dovrebbero esserci molte coppie di muoni con una massa invariante corrispondente alla massa prevista del J/𝜓. Per capire come mettere in pratica tutto ciò e rivendicare la scoperta di una particella, dobbiamo analizzare alcuni dati sperimentali!"
   ]
  },
  {
   "cell_type": "markdown",
   "metadata": {},
   "source": [
    "## Ricaviamola in sette passi (falsi)!"
   ]
  },
  {
   "cell_type": "markdown",
   "metadata": {},
   "source": [
    "1) $E_0 = mc^2$ discende dalla conservazione dell'energia nei decadimenti (es. Higgs che decade in due fotoni, che hanno solamente energia cinetica)."
   ]
  },
  {
   "cell_type": "markdown",
   "metadata": {},
   "source": [
    "2) $E(v) = f(v) mc^2 = m_{eff}c^2$, che deve essere consistente con $E(v/c\\simeq0) = E_0 + K = mc^2 + \\frac{1}{2}mv^2$."
   ]
  },
  {
   "cell_type": "markdown",
   "metadata": {},
   "source": [
    "3) Per quanto rigarda la quantità di moto (momento lineare) abbiamo invece, sostituendo la massa efficace nella formula classica: $p(v) = m_{eff}v$."
   ]
  },
  {
   "cell_type": "markdown",
   "metadata": {
    "tags": []
   },
   "source": [
    "4) Calcoliamo una quantità dalle curiose proprietà: $E^2 - p^2c^2 = (m_{eff}c^2)^2 - (m_{eff}v)^2c^2=m_{eff}^2c^2 (c^2 - v^2)=(m_{eff}c^2)^2 (1-\\frac{v^2}{c^2}) = (mc^2)^2 f(v)^2 (1-\\frac{v^2}{c^2})$."
   ]
  },
  {
   "cell_type": "markdown",
   "metadata": {},
   "source": [
    "5) Abbiamo osservato (e osserveremo) che i processi da noi studiati si trovano proprio per $v \\simeq c$, per cui quindi il fattore $(1-\\frac{v^2}{c^2}) \\simeq 0$, e la quantità $E^2 - p^2c^2$ non è né nulla né tende a infinito. "
   ]
  },
  {
   "cell_type": "markdown",
   "metadata": {},
   "source": [
    "6) Quindi $f(v)^2$ deve comportarsi esattamente in modo \"simmetricamente opposto\" a $(1-\\frac{v^2}{c^2})$, ovvero deve essere $f(v)$ = cost / $(1-\\frac{v^2}{c^2})$. "
   ]
  },
  {
   "cell_type": "markdown",
   "metadata": {},
   "source": [
    "7) Per riottenere $(mc^2)^2$ per $v=0$, l'unica costante valida è cost $= 1$ $\\rightarrow E^2 - p^2c^2 = (mc^2)^2$"
   ]
  },
  {
   "cell_type": "markdown",
   "metadata": {
    "colab_type": "text",
    "id": "DK956lP52AYs"
   },
   "source": [
    "# Jupyter Notebooks\n",
    "\n",
    "Il documento che stai guardando ora è un Jupyter Notebook. Questo è uno strumento usato da veri scienziati professionisti al CERN (e altrove) per analizzare i dati provenienti da LHC. I Jupyter notebooks consistono di testo come questo e di celle di codice, come nella riga qui sotto. Nelle celle di codice si può digitare del codice nel linguaggio di programmazione python. Seleziona la cella e poi premi ctrl+enter per eseguire il codice. Iniziate eseguendo la cella di codice qui sotto. (Questo codice è necessario per caricare alcuni pacchetti software che dovrai usare in seguito)"
   ]
  },
  {
   "cell_type": "code",
   "execution_count": 1,
   "metadata": {
    "colab": {
     "autoexec": {
      "startup": false,
      "wait_interval": 0
     }
    },
    "colab_type": "code",
    "id": "4lfPs4PVuVF5"
   },
   "outputs": [],
   "source": [
    "#Le righe di codice scritte con un hashtag come questo sono commenti, e saranno ignorate quando si esegue il codice.\n",
    "\n",
    "import pandas as pd\n",
    "import numpy as np\n",
    "import matplotlib.pyplot as plt\n",
    "\n",
    "%matplotlib inline"
   ]
  },
  {
   "cell_type": "markdown",
   "metadata": {
    "colab_type": "text",
    "id": "Tm-irsU2C350"
   },
   "source": [
    "# Come usare gli open data?\n",
    "## 1. Leggere i dati\n",
    " \n",
    " Ci sono molti portali di Open Data, dove puoi trovare dati a seconda della tua area di interesse.\n",
    "\n",
    "Nel nostro caso, useremo il CERN Open Data Portal. *(http://opendata.cern.ch/)*\n",
    "\n",
    "Per leggere i dati è necessario creare un array e utilizzare la funzione **pd.read_csv** per riempire questo array con i dati estratti dalla loro fonte.\n",
    "\n",
    "Il link al portale dati è l'argomento della funzione **pd.read_csv**.\n",
    "\n",
    "*Nota*: i dati devono essere un file* .csv*.\n",
    "\n",
    " **Esempio:**\n",
    " \n",
    " <font color='green'> muoni = pd.read_csv('</font> <font color= 'red' > URL </font>  <font color='green'> ')</font>\n",
    " \n",
    "**Nota: Per le parti di codice fornite in questo notebook: se sono <font color='green'>verdi</font> dovresti lasciarle come sono, mentre se sono  <font color= 'red' >rosse</font> dovresti modificarle! **\n",
    "\n",
    "\n",
    "\n",
    "**Task 1.**\n",
    "\n",
    "\n",
    "Per iniziare la nostra ricerca del J/ψ caricheremo alcuni dati reali raccolti dall'esperimento CMS al CERN. CMS rende questi dati pubblicamente disponibili sul CERN Open Data Portal per permettere di usarli in progetti come questo!\n",
    "\n",
    "Usa l'esempio sopra per digitare del codice nella cella qui sotto e creare un array chiamato muoni, leggendo i dati da: http://opendata.cern.ch/record/545/files/Dimuon_DoubleMu.csv\n",
    "\n",
    " "
   ]
  },
  {
   "cell_type": "code",
   "execution_count": 2,
   "metadata": {
    "colab": {
     "autoexec": {
      "startup": false,
      "wait_interval": 0
     }
    },
    "colab_type": "code",
    "id": "9ACrr9KS64JG"
   },
   "outputs": [],
   "source": [
    "muoni = pd.read_csv('http://opendata.cern.ch/record/545/files/Dimuon_DoubleMu.csv')"
   ]
  },
  {
   "cell_type": "markdown",
   "metadata": {
    "colab_type": "text",
    "id": "Gl68A-dGFkz4"
   },
   "source": [
    "## 2. Rivelare i dati.\n",
    "Come avete notato, non sembra essere successo nulla. I dati vengono letti e memorizzati nel vostro array, ma le informazioni sono ancora \"invisibili\" per voi.\n",
    "\n",
    "Sarebbe utile sapere quanti dati abbiamo appena memorizzato.\n",
    "\n",
    "Un array è in realtà solo una tabella, quindi abbiamo bisogno di sapere il numero di righe (questo corrisponde al numero di misure sperimentali ed è la lunghezza dell'array)\n",
    "\n",
    "**Task preliminare**:\n",
    "\n",
    "\n",
    "**D:** Indovina la lunghezza dell'array che hai appena riempito (cioè quante righe contiene?) e scrivi la tua ipotesi nella cella di testo sottostante.\n"
   ]
  },
  {
   "cell_type": "markdown",
   "metadata": {
    "colab_type": "text",
    "id": "XqOV7UA-cwIS"
   },
   "source": [
    "**R:**"
   ]
  },
  {
   "cell_type": "markdown",
   "metadata": {
    "colab_type": "text",
    "id": "6xAk2HP3ZCOY"
   },
   "source": [
    "Possiamo scoprire la lunghezza di una matrice usando la funzione _len_.\n",
    "\n",
    "**Esempio:**\n",
    "\n",
    "<font color = 'green'>len(</font><font color = 'red'>nome_array</font><font color = 'green'>)</font>\n",
    "\n",
    "**Task 2. **\n",
    "Trova la lunghezza del tuo array usando la cella di codice qui sotto.\n"
   ]
  },
  {
   "cell_type": "code",
   "execution_count": 3,
   "metadata": {
    "colab": {
     "autoexec": {
      "startup": false,
      "wait_interval": 0
     },
     "base_uri": "https://localhost:8080/",
     "height": 34
    },
    "colab_type": "code",
    "executionInfo": {
     "elapsed": 555,
     "status": "ok",
     "timestamp": 1531319364125,
     "user": {
      "displayName": "Ian Watkins",
      "photoUrl": "https://lh3.googleusercontent.com/a/default-user=s128",
      "userId": "101912210865552925087"
     },
     "user_tz": -120
    },
    "id": "XjoxCsaiFkJO",
    "outputId": "0c892ee6-0274-4812-f5e8-c0536f533442"
   },
   "outputs": [
    {
     "data": {
      "text/plain": [
       "100000"
      ]
     },
     "execution_count": 3,
     "metadata": {},
     "output_type": "execute_result"
    }
   ],
   "source": [
    "len(muoni)"
   ]
  },
  {
   "cell_type": "markdown",
   "metadata": {
    "colab_type": "text",
    "id": "D9a56RthdUa0"
   },
   "source": [
    "**Task 3.**\n",
    "*Discussione*: Come mai ci servono così tanti dati? "
   ]
  },
  {
   "cell_type": "markdown",
   "metadata": {
    "colab_type": "text",
    "id": "GWrwsEh3dpmz"
   },
   "source": [
    "**Task 4.** *Brainstorming*: Quali proprietà delle particelle potrebbero essere misurate in questo esperimento? Scrivi alcuni suggerimenti nella cella di testo qui sotto"
   ]
  },
  {
   "cell_type": "markdown",
   "metadata": {
    "colab_type": "text",
    "id": "7ZshL4xyi6C-"
   },
   "source": [
    "**R:**"
   ]
  },
  {
   "cell_type": "markdown",
   "metadata": {
    "colab_type": "text",
    "id": "QWF2h58roTC5"
   },
   "source": [
    "**Task 5. **\n",
    "\n",
    "Ora è il momento di far luce sul contenuto dei nostri dati. Possiamo vedere le prime 5 righe usando la funzione _head_.\n",
    "\n",
    "**Esempio:**\n",
    "\n",
    "<font color = 'red'>nome_array</font><font color = 'green'>.head()</font>\n",
    "\n",
    "Usate la cella di codice qui sotto per dare un'occhiata alle prime 5 righe dei dati. "
   ]
  },
  {
   "cell_type": "code",
   "execution_count": 4,
   "metadata": {
    "colab": {
     "autoexec": {
      "startup": false,
      "wait_interval": 0
     },
     "base_uri": "https://localhost:8080/",
     "height": 233
    },
    "colab_type": "code",
    "executionInfo": {
     "elapsed": 533,
     "status": "ok",
     "timestamp": 1531319372892,
     "user": {
      "displayName": "Ian Watkins",
      "photoUrl": "https://lh3.googleusercontent.com/a/default-user=s128",
      "userId": "101912210865552925087"
     },
     "user_tz": -120
    },
    "id": "MlCBXh7sJmlw",
    "outputId": "91068c4e-bd2a-48d7-e63c-bdedfdc2d972"
   },
   "outputs": [
    {
     "data": {
      "text/html": [
       "<div>\n",
       "<style scoped>\n",
       "    .dataframe tbody tr th:only-of-type {\n",
       "        vertical-align: middle;\n",
       "    }\n",
       "\n",
       "    .dataframe tbody tr th {\n",
       "        vertical-align: top;\n",
       "    }\n",
       "\n",
       "    .dataframe thead th {\n",
       "        text-align: right;\n",
       "    }\n",
       "</style>\n",
       "<table border=\"1\" class=\"dataframe\">\n",
       "  <thead>\n",
       "    <tr style=\"text-align: right;\">\n",
       "      <th></th>\n",
       "      <th>Run</th>\n",
       "      <th>Event</th>\n",
       "      <th>type1</th>\n",
       "      <th>E1</th>\n",
       "      <th>px1</th>\n",
       "      <th>py1</th>\n",
       "      <th>pz1</th>\n",
       "      <th>pt1</th>\n",
       "      <th>eta1</th>\n",
       "      <th>phi1</th>\n",
       "      <th>...</th>\n",
       "      <th>type2</th>\n",
       "      <th>E2</th>\n",
       "      <th>px2</th>\n",
       "      <th>py2</th>\n",
       "      <th>pz2</th>\n",
       "      <th>pt2</th>\n",
       "      <th>eta2</th>\n",
       "      <th>phi2</th>\n",
       "      <th>Q2</th>\n",
       "      <th>M</th>\n",
       "    </tr>\n",
       "  </thead>\n",
       "  <tbody>\n",
       "    <tr>\n",
       "      <th>0</th>\n",
       "      <td>165617</td>\n",
       "      <td>74601703</td>\n",
       "      <td>G</td>\n",
       "      <td>9.6987</td>\n",
       "      <td>-9.5104</td>\n",
       "      <td>0.3662</td>\n",
       "      <td>1.8633</td>\n",
       "      <td>9.5175</td>\n",
       "      <td>0.1945</td>\n",
       "      <td>3.1031</td>\n",
       "      <td>...</td>\n",
       "      <td>G</td>\n",
       "      <td>9.7633</td>\n",
       "      <td>7.3277</td>\n",
       "      <td>-1.1524</td>\n",
       "      <td>6.3473</td>\n",
       "      <td>7.4178</td>\n",
       "      <td>0.7756</td>\n",
       "      <td>-0.1560</td>\n",
       "      <td>1</td>\n",
       "      <td>17.4922</td>\n",
       "    </tr>\n",
       "    <tr>\n",
       "      <th>1</th>\n",
       "      <td>165617</td>\n",
       "      <td>75100943</td>\n",
       "      <td>G</td>\n",
       "      <td>6.2039</td>\n",
       "      <td>-4.2666</td>\n",
       "      <td>0.4565</td>\n",
       "      <td>-4.4793</td>\n",
       "      <td>4.2910</td>\n",
       "      <td>-0.9121</td>\n",
       "      <td>3.0350</td>\n",
       "      <td>...</td>\n",
       "      <td>G</td>\n",
       "      <td>9.6690</td>\n",
       "      <td>7.2740</td>\n",
       "      <td>-2.8211</td>\n",
       "      <td>-5.7104</td>\n",
       "      <td>7.8019</td>\n",
       "      <td>-0.6786</td>\n",
       "      <td>-0.3700</td>\n",
       "      <td>1</td>\n",
       "      <td>11.5534</td>\n",
       "    </tr>\n",
       "    <tr>\n",
       "      <th>2</th>\n",
       "      <td>165617</td>\n",
       "      <td>75587682</td>\n",
       "      <td>G</td>\n",
       "      <td>19.2892</td>\n",
       "      <td>-4.2121</td>\n",
       "      <td>-0.6516</td>\n",
       "      <td>18.8121</td>\n",
       "      <td>4.2622</td>\n",
       "      <td>2.1905</td>\n",
       "      <td>-2.9881</td>\n",
       "      <td>...</td>\n",
       "      <td>G</td>\n",
       "      <td>9.8244</td>\n",
       "      <td>4.3439</td>\n",
       "      <td>-0.4735</td>\n",
       "      <td>8.7985</td>\n",
       "      <td>4.3697</td>\n",
       "      <td>1.4497</td>\n",
       "      <td>-0.1086</td>\n",
       "      <td>1</td>\n",
       "      <td>9.1636</td>\n",
       "    </tr>\n",
       "    <tr>\n",
       "      <th>3</th>\n",
       "      <td>165617</td>\n",
       "      <td>75660978</td>\n",
       "      <td>G</td>\n",
       "      <td>7.0427</td>\n",
       "      <td>-6.3268</td>\n",
       "      <td>-0.2685</td>\n",
       "      <td>3.0802</td>\n",
       "      <td>6.3325</td>\n",
       "      <td>0.4690</td>\n",
       "      <td>-3.0992</td>\n",
       "      <td>...</td>\n",
       "      <td>G</td>\n",
       "      <td>5.5857</td>\n",
       "      <td>4.4748</td>\n",
       "      <td>0.8489</td>\n",
       "      <td>-3.2319</td>\n",
       "      <td>4.5546</td>\n",
       "      <td>-0.6605</td>\n",
       "      <td>0.1875</td>\n",
       "      <td>1</td>\n",
       "      <td>12.4774</td>\n",
       "    </tr>\n",
       "    <tr>\n",
       "      <th>4</th>\n",
       "      <td>165617</td>\n",
       "      <td>75947690</td>\n",
       "      <td>G</td>\n",
       "      <td>7.2751</td>\n",
       "      <td>0.1030</td>\n",
       "      <td>-5.5331</td>\n",
       "      <td>-4.7212</td>\n",
       "      <td>5.5340</td>\n",
       "      <td>-0.7736</td>\n",
       "      <td>-1.5522</td>\n",
       "      <td>...</td>\n",
       "      <td>G</td>\n",
       "      <td>7.3181</td>\n",
       "      <td>-0.3988</td>\n",
       "      <td>6.9408</td>\n",
       "      <td>2.2825</td>\n",
       "      <td>6.9523</td>\n",
       "      <td>0.3227</td>\n",
       "      <td>1.6282</td>\n",
       "      <td>1</td>\n",
       "      <td>14.3159</td>\n",
       "    </tr>\n",
       "    <tr>\n",
       "      <th>...</th>\n",
       "      <td>...</td>\n",
       "      <td>...</td>\n",
       "      <td>...</td>\n",
       "      <td>...</td>\n",
       "      <td>...</td>\n",
       "      <td>...</td>\n",
       "      <td>...</td>\n",
       "      <td>...</td>\n",
       "      <td>...</td>\n",
       "      <td>...</td>\n",
       "      <td>...</td>\n",
       "      <td>...</td>\n",
       "      <td>...</td>\n",
       "      <td>...</td>\n",
       "      <td>...</td>\n",
       "      <td>...</td>\n",
       "      <td>...</td>\n",
       "      <td>...</td>\n",
       "      <td>...</td>\n",
       "      <td>...</td>\n",
       "      <td>...</td>\n",
       "    </tr>\n",
       "    <tr>\n",
       "      <th>99995</th>\n",
       "      <td>165548</td>\n",
       "      <td>604039696</td>\n",
       "      <td>G</td>\n",
       "      <td>15.5500</td>\n",
       "      <td>-0.6422</td>\n",
       "      <td>-14.3635</td>\n",
       "      <td>-5.9219</td>\n",
       "      <td>14.3779</td>\n",
       "      <td>-0.4010</td>\n",
       "      <td>-1.6155</td>\n",
       "      <td>...</td>\n",
       "      <td>T</td>\n",
       "      <td>3.5116</td>\n",
       "      <td>-1.0242</td>\n",
       "      <td>-0.7346</td>\n",
       "      <td>3.2759</td>\n",
       "      <td>1.2604</td>\n",
       "      <td>1.6834</td>\n",
       "      <td>-2.5194</td>\n",
       "      <td>-1</td>\n",
       "      <td>11.2077</td>\n",
       "    </tr>\n",
       "    <tr>\n",
       "      <th>99996</th>\n",
       "      <td>165548</td>\n",
       "      <td>604109784</td>\n",
       "      <td>G</td>\n",
       "      <td>29.0521</td>\n",
       "      <td>-2.5229</td>\n",
       "      <td>4.8188</td>\n",
       "      <td>-28.5381</td>\n",
       "      <td>5.4393</td>\n",
       "      <td>-2.3597</td>\n",
       "      <td>2.0531</td>\n",
       "      <td>...</td>\n",
       "      <td>G</td>\n",
       "      <td>9.8427</td>\n",
       "      <td>3.8924</td>\n",
       "      <td>-5.0569</td>\n",
       "      <td>-7.4929</td>\n",
       "      <td>6.3815</td>\n",
       "      <td>-0.9993</td>\n",
       "      <td>-0.9148</td>\n",
       "      <td>-1</td>\n",
       "      <td>14.5819</td>\n",
       "    </tr>\n",
       "    <tr>\n",
       "      <th>99997</th>\n",
       "      <td>165548</td>\n",
       "      <td>604123712</td>\n",
       "      <td>G</td>\n",
       "      <td>11.3198</td>\n",
       "      <td>-0.3840</td>\n",
       "      <td>8.7650</td>\n",
       "      <td>-7.1523</td>\n",
       "      <td>8.7734</td>\n",
       "      <td>-0.7445</td>\n",
       "      <td>1.6146</td>\n",
       "      <td>...</td>\n",
       "      <td>G</td>\n",
       "      <td>19.8499</td>\n",
       "      <td>-0.8391</td>\n",
       "      <td>-17.3203</td>\n",
       "      <td>9.6597</td>\n",
       "      <td>17.3406</td>\n",
       "      <td>0.5317</td>\n",
       "      <td>-1.6192</td>\n",
       "      <td>1</td>\n",
       "      <td>29.8425</td>\n",
       "    </tr>\n",
       "    <tr>\n",
       "      <th>99998</th>\n",
       "      <td>165548</td>\n",
       "      <td>604295320</td>\n",
       "      <td>G</td>\n",
       "      <td>8.7502</td>\n",
       "      <td>5.9613</td>\n",
       "      <td>1.0398</td>\n",
       "      <td>-6.3195</td>\n",
       "      <td>6.0513</td>\n",
       "      <td>-0.9124</td>\n",
       "      <td>0.1727</td>\n",
       "      <td>...</td>\n",
       "      <td>G</td>\n",
       "      <td>11.8601</td>\n",
       "      <td>-6.2436</td>\n",
       "      <td>0.4801</td>\n",
       "      <td>10.0717</td>\n",
       "      <td>6.2620</td>\n",
       "      <td>1.2534</td>\n",
       "      <td>3.0648</td>\n",
       "      <td>-1</td>\n",
       "      <td>20.2068</td>\n",
       "    </tr>\n",
       "    <tr>\n",
       "      <th>99999</th>\n",
       "      <td>165548</td>\n",
       "      <td>604313280</td>\n",
       "      <td>G</td>\n",
       "      <td>5.2671</td>\n",
       "      <td>-0.0144</td>\n",
       "      <td>-4.8474</td>\n",
       "      <td>-2.0576</td>\n",
       "      <td>4.8474</td>\n",
       "      <td>-0.4127</td>\n",
       "      <td>-1.5738</td>\n",
       "      <td>...</td>\n",
       "      <td>T</td>\n",
       "      <td>4.6887</td>\n",
       "      <td>-0.5998</td>\n",
       "      <td>4.4863</td>\n",
       "      <td>-1.2189</td>\n",
       "      <td>4.5262</td>\n",
       "      <td>-0.2661</td>\n",
       "      <td>1.7037</td>\n",
       "      <td>-1</td>\n",
       "      <td>9.3741</td>\n",
       "    </tr>\n",
       "  </tbody>\n",
       "</table>\n",
       "<p>100000 rows × 21 columns</p>\n",
       "</div>"
      ],
      "text/plain": [
       "          Run      Event type1       E1     px1      py1      pz1      pt1  \\\n",
       "0      165617   74601703     G   9.6987 -9.5104   0.3662   1.8633   9.5175   \n",
       "1      165617   75100943     G   6.2039 -4.2666   0.4565  -4.4793   4.2910   \n",
       "2      165617   75587682     G  19.2892 -4.2121  -0.6516  18.8121   4.2622   \n",
       "3      165617   75660978     G   7.0427 -6.3268  -0.2685   3.0802   6.3325   \n",
       "4      165617   75947690     G   7.2751  0.1030  -5.5331  -4.7212   5.5340   \n",
       "...       ...        ...   ...      ...     ...      ...      ...      ...   \n",
       "99995  165548  604039696     G  15.5500 -0.6422 -14.3635  -5.9219  14.3779   \n",
       "99996  165548  604109784     G  29.0521 -2.5229   4.8188 -28.5381   5.4393   \n",
       "99997  165548  604123712     G  11.3198 -0.3840   8.7650  -7.1523   8.7734   \n",
       "99998  165548  604295320     G   8.7502  5.9613   1.0398  -6.3195   6.0513   \n",
       "99999  165548  604313280     G   5.2671 -0.0144  -4.8474  -2.0576   4.8474   \n",
       "\n",
       "         eta1    phi1  ...  type2       E2     px2      py2      pz2      pt2  \\\n",
       "0      0.1945  3.1031  ...      G   9.7633  7.3277  -1.1524   6.3473   7.4178   \n",
       "1     -0.9121  3.0350  ...      G   9.6690  7.2740  -2.8211  -5.7104   7.8019   \n",
       "2      2.1905 -2.9881  ...      G   9.8244  4.3439  -0.4735   8.7985   4.3697   \n",
       "3      0.4690 -3.0992  ...      G   5.5857  4.4748   0.8489  -3.2319   4.5546   \n",
       "4     -0.7736 -1.5522  ...      G   7.3181 -0.3988   6.9408   2.2825   6.9523   \n",
       "...       ...     ...  ...    ...      ...     ...      ...      ...      ...   \n",
       "99995 -0.4010 -1.6155  ...      T   3.5116 -1.0242  -0.7346   3.2759   1.2604   \n",
       "99996 -2.3597  2.0531  ...      G   9.8427  3.8924  -5.0569  -7.4929   6.3815   \n",
       "99997 -0.7445  1.6146  ...      G  19.8499 -0.8391 -17.3203   9.6597  17.3406   \n",
       "99998 -0.9124  0.1727  ...      G  11.8601 -6.2436   0.4801  10.0717   6.2620   \n",
       "99999 -0.4127 -1.5738  ...      T   4.6887 -0.5998   4.4863  -1.2189   4.5262   \n",
       "\n",
       "         eta2    phi2  Q2        M  \n",
       "0      0.7756 -0.1560   1  17.4922  \n",
       "1     -0.6786 -0.3700   1  11.5534  \n",
       "2      1.4497 -0.1086   1   9.1636  \n",
       "3     -0.6605  0.1875   1  12.4774  \n",
       "4      0.3227  1.6282   1  14.3159  \n",
       "...       ...     ...  ..      ...  \n",
       "99995  1.6834 -2.5194  -1  11.2077  \n",
       "99996 -0.9993 -0.9148  -1  14.5819  \n",
       "99997  0.5317 -1.6192   1  29.8425  \n",
       "99998  1.2534  3.0648  -1  20.2068  \n",
       "99999 -0.2661  1.7037  -1   9.3741  \n",
       "\n",
       "[100000 rows x 21 columns]"
      ]
     },
     "execution_count": 4,
     "metadata": {},
     "output_type": "execute_result"
    }
   ],
   "source": [
    "muoni\n"
   ]
  },
  {
   "cell_type": "markdown",
   "metadata": {
    "colab_type": "text",
    "id": "Y6B2AldBKBVT"
   },
   "source": [
    "## 3. Comprendere i dati\n"
   ]
  },
  {
   "cell_type": "markdown",
   "metadata": {
    "colab_type": "text",
    "id": "tHhk4lJ1L6-9"
   },
   "source": [
    "Come puoi vedere, ci sono due particelle, dato che stiamo guardando coppie di muoni. Le loro proprietà sono state misurate e calcolate nel rivelatore dopo la collisione. Ogni colonna etichettata con l'indice 1 o 2 corrisponde rispettivamente alla particella 1 o 2.\n",
    "\n",
    "\n",
    "\n",
    "**E** - energia della particella\n",
    "\n",
    "**px, py, pz** -  componenti *x,y,z* della quantità di moto della particella\n",
    "\n",
    "**pt** - la combinazione di px e py (componente della quantità di moto che è perpendicolare alla direzione del fascio)\n",
    "\n",
    "**eta, phi** - angoli che descrivono la direzione del moto della particella\n",
    "\n",
    "**Q** - carica elettrica della particella in unità di carica fondamentale (e)\n",
    "\n",
    "**M** - massa invariante della coppia di particelle\n",
    "\n",
    "\n",
    "Nota: i fisici delle particelle usano le cosiddette \"unità naturali\" per queste quantità. Queste unità usano la famosa equazione di Einstein E=mc^2 per scrivere energia, quantità di moto e massa in unità di GeV, GeV/c e GeV/c^2\n",
    "\n",
    "\n",
    "<img src=\"https://media.giphy.com/media/KpJtbODlSkxYk/giphy.gif\" alt=\"collision\">\n"
   ]
  },
  {
   "cell_type": "markdown",
   "metadata": {
    "colab_type": "text",
    "id": "RFE35ljB55Fy"
   },
   "source": [
    "## 4. Presentare i dati \n",
    "\n"
   ]
  },
  {
   "cell_type": "markdown",
   "metadata": {
    "colab_type": "text",
    "id": "yrEA6qeM6Duq"
   },
   "source": [
    "Ora abbiamo molti dati sotto forma di un'enorme tabella. Questo non è chiaramente il modo migliore di presentarli se vogliamo analizzare i dati e trovare prove dell'esistenza della particella J/𝜓\n",
    "\n",
    "\n",
    "Possiamo usare un istogramma per presentare meglio i dati\n",
    "\n",
    "** Rapido promemoria sulla costruzione di un istogramma: **\n",
    "\n",
    "** Passo 1. **\n",
    "\n",
    "\"Binnare\" la gamma di valori - dividere l'intera gamma di valori (per esempio, l'energia delle particelle) in una serie di intervalli. I bin sono intervalli consecutivi e non sovrapposti di una variabile.\n",
    "\n",
    "I bin devono essere adiacenti e di solito sono di dimensioni uguali.\n",
    "\n",
    "** Fase 2. **\n",
    "\n",
    "Se i bin sono di uguali dimensioni, l'altezza del rettangolo sopra il bin è proporzionale al numero di eventi corrispondenti ad ogni bin.\n",
    "\n",
    "** Esempio di istogramma**\n",
    "\n",
    "\n",
    "![Image](https://upload.wikimedia.org/wikipedia/commons/thumb/d/d9/Black_cherry_tree_histogram.svg/220px-Black_cherry_tree_histogram.svg.png)\n",
    "\n",
    "\n",
    "\n",
    "---\n",
    "\n"
   ]
  },
  {
   "cell_type": "markdown",
   "metadata": {
    "colab_type": "text",
    "id": "kbAiUUfF-qa_"
   },
   "source": [
    "\n",
    "We will now use some code to plot a histogram of our data \n",
    "\n",
    "**Example:**\n",
    "\n",
    "<font color = 'green'> fig = plt.figure( figsize=(15, 10))</font> *(questa linea determina la dimensione dell'istogramma e contiene una scala x e una scala y, come la larghezza e l'altezza di un rettangolo)*\n",
    "\n",
    "<font color = 'green'>plt.hist(</font><font color = 'red'>nome_array.nome_column, numero_bins , </font><font color = 'green'>range = </font><font color = 'red'>(min , max)</font><font color = 'green'>)</font> *(questa linea traccia l'istogramma secondo i parametri nella parantesi. \"range\" imposta i limiti per i valori dell'asse x.)* \n",
    "\n",
    "<font color = 'green'>plt.xlabel(</font><font color = 'red'>'Label, Unità'</font><font color = 'green'> \\n, fontsize = 15</font>) * (questa linea etichetta l'asse x, Il valore \"fontsize\" è usato per determinare la dimensione del vostro testo. Il simbolo \\n crea una nuova linea e rende il grafico più carino).*\n",
    "\n",
    "<font color = 'green'>plt.ylabel('Numero di Eventi \\n', fontsize = 15)</font> *(questa linea etichetta l'asse y)*\n",
    "\n",
    "<font color = 'green'>plt.title(</font><font color = 'red'>'Titolo del Plot'</font><font color = 'green'> \\n, fontsize = 15)</font> *(questa linea fornisce un titolo al grafico)*\n",
    "\n",
    "<font color = 'green'>plt.show()"
   ]
  },
  {
   "cell_type": "markdown",
   "metadata": {
    "colab_type": "text",
    "id": "YR_uy5r7Eyoq"
   },
   "source": [
    "** Task 6 ** \n",
    "Traccia un istogramma per la massa invariante (M) dai tuoi dati nella cella di codice qui sotto.\n",
    "\n",
    "*Suggerimento* : Usate un range di masse invarianti tra 0-150 e provate diversi numeri di bin (iniziate con 200) per ottenere l'immagine più informativa. Non esiste un numero \"migliore\" di bin, ma diversi numeri di bin possono rivelare diverse caratteristiche dei dati. Quindi scegliete saggiamente."
   ]
  },
  {
   "cell_type": "code",
   "execution_count": 5,
   "metadata": {
    "colab": {
     "autoexec": {
      "startup": false,
      "wait_interval": 0
     },
     "base_uri": "https://localhost:8080/",
     "height": 650
    },
    "colab_type": "code",
    "executionInfo": {
     "elapsed": 1229,
     "status": "ok",
     "timestamp": 1531319436080,
     "user": {
      "displayName": "Ian Watkins",
      "photoUrl": "https://lh3.googleusercontent.com/a/default-user=s128",
      "userId": "101912210865552925087"
     },
     "user_tz": -120
    },
    "id": "m9nBa0OdJnF6",
    "outputId": "40106a36-cb0c-4890-bb87-7ea94e9547bf"
   },
   "outputs": [
    {
     "data": {
      "image/png": "[encoded data removed]",
      "text/plain": [
       "<Figure size 1440x720 with 1 Axes>"
      ]
     },
     "metadata": {
      "needs_background": "light"
     },
     "output_type": "display_data"
    }
   ],
   "source": [
    "fig = plt.figure(figsize=(20, 10))\n",
    "\n",
    "plt.hist(muoni.M, 300, range = (0,150))\n",
    "\n",
    "plt.xlabel('Massa invariante (GeV/$c^2$)', fontsize = 15)\n",
    "plt.ylabel('Numero di eventi \\n', fontsize = 15)\n",
    "plt.title('Distribuzione sperimentale di eventi con due muoni \\n', fontsize = 15)\n",
    "\n",
    "plt.show()"
   ]
  },
  {
   "cell_type": "markdown",
   "metadata": {
    "colab_type": "text",
    "id": "dp4sKnpvHyPt"
   },
   "source": [
    "** Task 7. **\n",
    "Cosa noti? Scrivi alcune osservazioni generali basate sul tuo istogramma nella cella di testo qui sotto."
   ]
  },
  {
   "cell_type": "markdown",
   "metadata": {
    "colab_type": "text",
    "id": "XjazNgBWWv7j"
   },
   "source": [
    "**R:**"
   ]
  },
  {
   "cell_type": "markdown",
   "metadata": {
    "colab_type": "text",
    "id": "nCmhHZp_P9-T"
   },
   "source": [
    "## 5. Guardando più da vicino."
   ]
  },
  {
   "cell_type": "markdown",
   "metadata": {
    "colab_type": "text",
    "id": "EfkGXNXtP9-W"
   },
   "source": [
    "Congratulazioni! Hai appena tracciato l'intera serie di dati e creato una bella panoramica delle masse invarianti delle tue 100 000 coppie di muoni rilevate.\n",
    "\n",
    "Ora facciamo un passo avanti.\n",
    "Ricorda il nostro obiettivo: vogliamo trovare la prova di una nuova particella!\n",
    "Le previsioni teoriche del 1974 dicono che c'è una probabilità del 6% che il J/𝜓\n",
    "decada in due muoni. La particella prevista ha una massa di circa 3𝐺𝑒𝑉/𝑐^2 e una vita media di 7,2⋅10^(-21)𝑠\n",
    "\n",
    "\n",
    "**Task 8. Rispondi alle due domande sotto:**\n"
   ]
  },
  {
   "cell_type": "markdown",
   "metadata": {
    "colab_type": "text",
    "id": "WTQxN7PWP9-X"
   },
   "source": [
    "<b>D:</b> Qual è l'informazione importante nel testo qui sopra che può essere usata per identificare la porzione del nostro set di dati prendere in considerazione?"
   ]
  },
  {
   "cell_type": "markdown",
   "metadata": {
    "colab_type": "text",
    "id": "YDNVlqycP9-X"
   },
   "source": [
    "<b>R</b>:"
   ]
  },
  {
   "cell_type": "markdown",
   "metadata": {
    "colab_type": "text",
    "id": "X73UdodoP9-Y"
   },
   "source": [
    "<b>D:</b> Cosa significa avere una massa di 3𝐺𝑒𝑉/𝑐^2? Come è legata l'unità GeV all'unità SI \"kg\"?"
   ]
  },
  {
   "cell_type": "markdown",
   "metadata": {
    "colab_type": "text",
    "id": "13SkTOMwP9-Z"
   },
   "source": [
    "<b>R:</b>"
   ]
  },
  {
   "cell_type": "markdown",
   "metadata": {
    "colab_type": "text",
    "id": "Po3tQl5OP9-a"
   },
   "source": [
    "Se vogliamo ingrandire per guardare qualche parte del nostro istogramma in modo più dettagliato, dobbiamo creare un nuovo array che utilizzi solo la parte dei dati che ci interessa. Poi dobbiamo tracciare la nuova serie limitata di dati. Ecco un esempio:"
   ]
  },
  {
   "cell_type": "markdown",
   "metadata": {
    "colab_type": "text",
    "id": "iqYYumrsP9-c"
   },
   "source": [
    "Esempio: \n",
    "<br><font color='green'> <font color='red'>nome_nuovo_array</font> = <font color='red'>nome_originale_array</font>[(<font color='red'>nome_originale_array</font>.<font color='red'>nome_column</font> >= <font color='red'>limite inferiore</font>) & (<font color='red'>none_originale_array</font>.<font color='red'>nome_column</font> <= <font color='red'>limite superiore</font>)] </font>\n",
    "\n"
   ]
  },
  {
   "cell_type": "markdown",
   "metadata": {
    "colab_type": "text",
    "id": "_DXGvacxndtk"
   },
   "source": [
    "**Task 9.** Usate la cella di codice sottostante per creare un nuovo array di dati, limitatamente ai dati che ci aiuteranno a tracciare un istogramma ingrandito per trovare prove dell'esistenza del J/𝜓."
   ]
  },
  {
   "cell_type": "code",
   "execution_count": 6,
   "metadata": {
    "colab": {
     "autoexec": {
      "startup": false,
      "wait_interval": 0
     }
    },
    "colab_type": "code",
    "id": "fZXJqno0oD3d"
   },
   "outputs": [],
   "source": [
    "bump = muoni[(muoni.M >= 0) & (muoni.M <= 100)]"
   ]
  },
  {
   "cell_type": "markdown",
   "metadata": {
    "colab_type": "text",
    "id": "DZsGDqZ-P9-j"
   },
   "source": [
    "<img src=\"https://i.imgur.com/3fAd0w8.gif?1\"\n",
    "alt=\"Coding\">"
   ]
  },
  {
   "cell_type": "markdown",
   "metadata": {
    "colab_type": "text",
    "id": "Sdxp8LtjoF5v"
   },
   "source": [
    "**Task 10.** Usa la cella di codice qui sotto per tracciare un istogramma del tuo nuovo set di dati appena selezionato. Fate riferimento alla sezione 4 se avete bisogno di ricordarvi come tracciare un istogramma. Potreste aver bisogno di cambiare alcuni dei parametri ora che state usando una serie di dati più limitata."
   ]
  },
  {
   "cell_type": "code",
   "execution_count": 7,
   "metadata": {
    "colab": {
     "autoexec": {
      "startup": false,
      "wait_interval": 0
     },
     "base_uri": "https://localhost:8080/",
     "height": 650
    },
    "colab_type": "code",
    "executionInfo": {
     "elapsed": 1315,
     "status": "ok",
     "timestamp": 1531319464330,
     "user": {
      "displayName": "Ian Watkins",
      "photoUrl": "https://lh3.googleusercontent.com/a/default-user=s128",
      "userId": "101912210865552925087"
     },
     "user_tz": -120
    },
    "id": "LkhHAr6qP9-k",
    "outputId": "9342942b-2aa8-4651-e7fa-56938401ada3"
   },
   "outputs": [
    {
     "data": {
      "image/png": "[encoded data removed]",
      "text/plain": [
       "<Figure size 1080x720 with 1 Axes>"
      ]
     },
     "metadata": {
      "needs_background": "light"
     },
     "output_type": "display_data"
    }
   ],
   "source": [
    "fig = plt.figure(figsize=(15, 10))\n",
    "\n",
    "plt.hist(bump.M, 300, range = (2,4))\n",
    "\n",
    "plt.xlabel('Massa invariante (GeV/$c^2$)', fontsize = 15)\n",
    "plt.ylabel('Numero di eventi\\n', fontsize = 15)\n",
    "plt.title('Distribuzione sperimentale di eventi con due muoni \\n', fontsize = 15)\n",
    "\n",
    "plt.show()"
   ]
  },
  {
   "cell_type": "markdown",
   "metadata": {
    "colab_type": "text",
    "id": "PR4zVuSIoztT"
   },
   "source": [
    "## 6. Domande di riflessione"
   ]
  },
  {
   "cell_type": "markdown",
   "metadata": {
    "colab_type": "text",
    "id": "S-q9ZGvFP9-q"
   },
   "source": [
    "<b>D:</b> Cosa diavolo sto facendo?"
   ]
  },
  {
   "cell_type": "markdown",
   "metadata": {
    "colab_type": "text",
    "id": "sEf_V9fIP9-r"
   },
   "source": [
    "<b>R:</b>"
   ]
  },
  {
   "cell_type": "markdown",
   "metadata": {
    "colab_type": "text",
    "id": "N9crLZCDP9-s"
   },
   "source": [
    "<b>D:</b> Come possiamo usare l'istogramma qui sopra per fornire prove dell'esistenza della particella J/𝜓?"
   ]
  },
  {
   "cell_type": "markdown",
   "metadata": {
    "colab_type": "text",
    "id": "yUNaGQNSP9-t"
   },
   "source": [
    "<b>R:</b>"
   ]
  },
  {
   "cell_type": "markdown",
   "metadata": {
    "colab_type": "text",
    "id": "HjTvtpZ9P9-t"
   },
   "source": [
    "<b>D:</b> Quali misure abbiamo dovuto fare per ottenere questa prova?"
   ]
  },
  {
   "cell_type": "markdown",
   "metadata": {
    "colab_type": "text",
    "id": "0uYYqPNAP9-u"
   },
   "source": [
    "<b>R:</b>"
   ]
  },
  {
   "cell_type": "markdown",
   "metadata": {
    "colab_type": "text",
    "id": "hxBm40ISP9-v"
   },
   "source": [
    "<b>D:</b> Pensi che questo istogramma supporti le previsioni teoriche?"
   ]
  },
  {
   "cell_type": "markdown",
   "metadata": {
    "colab_type": "text",
    "id": "-_ZH5dNuP9-v"
   },
   "source": [
    "<b>R:</b>"
   ]
  },
  {
   "cell_type": "markdown",
   "metadata": {
    "colab_type": "text",
    "id": "2v0oZ_d4P9-4"
   },
   "source": [
    "<b>D:</b> Perché non possiamo vedere la massa \"esatta\" della nostra particella ma invece una distribuzione di masse intorno ad essa?"
   ]
  },
  {
   "cell_type": "markdown",
   "metadata": {
    "colab_type": "text",
    "id": "LGFdBZJDP9-5"
   },
   "source": [
    "<b>R:</b>"
   ]
  },
  {
   "cell_type": "markdown",
   "metadata": {
    "colab_type": "text",
    "id": "qN2zf1IJP9-z"
   },
   "source": [
    "<b>D:</b> Elenca i passi principali che hai fatto per arrivare al tuo grafico finale e descrivili in generale."
   ]
  },
  {
   "cell_type": "markdown",
   "metadata": {
    "colab_type": "text",
    "id": "leTGFu2fP9-1"
   },
   "source": [
    "<b>R:</b>"
   ]
  },
  {
   "cell_type": "markdown",
   "metadata": {
    "colab_type": "text",
    "id": "kZLFmu4HP9-2"
   },
   "source": [
    "<b>D:</b> Qual è la tua opinione: Questi passi possono essere usati per altri problemi scientifici? Perché?"
   ]
  },
  {
   "cell_type": "markdown",
   "metadata": {
    "colab_type": "text",
    "id": "m4MPFj2zP9-2"
   },
   "source": [
    "<b>R:</b>"
   ]
  },
  {
   "cell_type": "markdown",
   "metadata": {
    "colab_type": "text",
    "id": "0V4plvLQP9-w"
   },
   "source": [
    "<b>D:</b> Come potrebbero essere usati gli Open Data del CERN per \"trovare\" altre particelle?"
   ]
  },
  {
   "cell_type": "markdown",
   "metadata": {
    "colab_type": "text",
    "id": "vL7FHbJLP9-x"
   },
   "source": [
    "<b>R:</b>"
   ]
  },
  {
   "cell_type": "markdown",
   "metadata": {
    "colab_type": "text",
    "id": "NCxILqwRP9-y"
   },
   "source": [
    "<b>D:</b> Perché gli scienziati usano linguaggi di programmazione come python e software come jupyter per gestire grandi insiemi di dati?"
   ]
  },
  {
   "cell_type": "markdown",
   "metadata": {
    "colab_type": "text",
    "id": "tkwaLB2qP9-z"
   },
   "source": [
    "<b>R:</b>"
   ]
  },
  {
   "cell_type": "markdown",
   "metadata": {
    "colab_type": "text",
    "id": "JJiGqdo0P9-8"
   },
   "source": [
    "<b> <center><font size=\"6\">Congratulazioni! <br>\n",
    "    Hai appena vinto il premio Nobel!</b> </center></font><br>\n",
    "\n",
    "\n",
    "Alcune ulteriori informazioni riguardanti la particella che hai appena trovato:\n",
    "<br>https://www.symmetrymagazine.org/breaking/2008/05/16/the-jpsi-particle-original-papers"
   ]
  },
  {
   "cell_type": "markdown",
   "metadata": {
    "colab_type": "text",
    "id": "mhJ5dCBDP9-9"
   },
   "source": [
    "<img src=\"https://media.giphy.com/media/3orif4qbRS6WjGJ2zC/giphy.gif\"\n",
    "alt=\"Nobel\">"
   ]
  },
  {
   "cell_type": "markdown",
   "metadata": {
    "colab_type": "text",
    "id": "CqaPTkf7P9--"
   },
   "source": [
    "<img src=\"https://i.pinimg.com/originals/c0/11/53/c011532c725c0f282d20bc6ae46ab27e.gif\"\n",
    "alt=\"Nobel\">"
   ]
  },
  {
   "cell_type": "markdown",
   "metadata": {
    "colab_type": "text",
    "id": "QxNGWwOfP9-_"
   },
   "source": [
    "<img src=\"https://media.giphy.com/media/l0G16vfdq73AtzmKc/giphy.gif\"\n",
    "alt=\"Simpsons\">"
   ]
  },
  {
   "cell_type": "markdown",
   "metadata": {
    "colab_type": "text",
    "id": "iJJndqDAP9-_"
   },
   "source": [
    "<img src=\"https://static1.squarespace.com/static/53422302e4b02233d7451d48/t/54507b04e4b0830eb42cc777/1414560526469/?format=1000w\"\n",
    "alt=\"Brain\">"
   ]
  },
  {
   "cell_type": "markdown",
   "metadata": {},
   "source": [
    "<b> <center><font size=\"6\">  <br> _________________________________________________<br><br>Pensavi di avere finito?? Povero illuso!</b> </center></font><br>"
   ]
  },
  {
   "cell_type": "markdown",
   "metadata": {},
   "source": [
    "# Caccia al tesoro: "
   ]
  },
  {
   "cell_type": "markdown",
   "metadata": {},
   "source": [
    "### Scava nei dati estratti sopra (_muoni_ o _bump_) per investigare:"
   ]
  },
  {
   "cell_type": "markdown",
   "metadata": {},
   "source": [
    "a) La validità della __formula__ $E^2  - (pc)^2 = (mc^2)^2$ (prova a confrontare _muoni.M_ o _bump.M_ con i valori della massa ottenuti con la formula)"
   ]
  },
  {
   "cell_type": "code",
   "execution_count": 17,
   "metadata": {},
   "outputs": [
    {
     "data": {
      "image/png": "[encoded data removed]",
      "text/plain": [
       "<Figure size 1080x720 with 1 Axes>"
      ]
     },
     "metadata": {
      "needs_background": "light"
     },
     "output_type": "display_data"
    }
   ],
   "source": [
    "# METODO 1\n",
    "fig = plt.figure(figsize=(15, 10))\n",
    "\n",
    "plt.hist(np.sqrt((bump.E1 + bump.E2)**2 - (bump.px1 + bump.px2 )**2- (bump.py1 + bump.py2 )**2 - (bump.pz1+ bump.pz2 )**2 ), 400, range = (2,20), color='k')\n",
    "plt.hist(bump.M, 400, range = (2,20), color='r')\n",
    "\n",
    "plt.xlabel('Massa invariante (GeV/$c^2$)', fontsize = 15)\n",
    "plt.ylabel('Numero di eventi\\n', fontsize = 15)\n",
    "plt.title('Distribuzione sperimentale di eventi con due muoni \\n', fontsize = 15)\n",
    "\n",
    "plt.show()\n"
   ]
  },
  {
   "cell_type": "code",
   "execution_count": 9,
   "metadata": {},
   "outputs": [
    {
     "data": {
      "image/png": "[encoded data removed]",
      "text/plain": [
       "<Figure size 720x720 with 1 Axes>"
      ]
     },
     "metadata": {
      "needs_background": "light"
     },
     "output_type": "display_data"
    }
   ],
   "source": [
    "#METODO 2\n",
    "fig = plt.figure(figsize=(10, 10))\n",
    "plt.hist2d(bump.E1 + bump.E2, np.sqrt((bump.px1 + bump.px2)**2 + (bump.py1 + bump.py2)**2 + (bump.pz1 + bump.pz2)**2), 400, range =[(3,30), (3,30)])\n",
    "\n",
    "plt.xlabel('Energia di J/Psi (GeV)', fontsize = 15)\n",
    "plt.ylabel('c $\\cdot$ Quantità di moto di J/Psi (GeV)\\n', fontsize = 15)\n",
    "plt.title('Distribuzione sperimentale di eventi con due muoni \\n', fontsize = 15)\n",
    "\n",
    "plt.show()\n"
   ]
  },
  {
   "cell_type": "markdown",
   "metadata": {},
   "source": [
    "b) La non validità della __formula__ $E = \\frac{p^2}{2m}$:"
   ]
  },
  {
   "cell_type": "code",
   "execution_count": 10,
   "metadata": {},
   "outputs": [],
   "source": [
    "#Inserisci il tuo codice qui"
   ]
  },
  {
   "cell_type": "markdown",
   "metadata": {},
   "source": [
    "c) Il valore della __massa__ dei _muoni_"
   ]
  },
  {
   "cell_type": "code",
   "execution_count": 11,
   "metadata": {},
   "outputs": [],
   "source": [
    "#Inserisci il tuo codice qui"
   ]
  },
  {
   "cell_type": "markdown",
   "metadata": {},
   "source": [
    "<rb>\n",
    "   \n",
    "\n",
    "\n",
    "    \n",
    "d) __Differenze__ fra i due muoni (energie, quantità di moto, masse...)"
   ]
  },
  {
   "cell_type": "code",
   "execution_count": 12,
   "metadata": {},
   "outputs": [],
   "source": [
    "#Inserisci il tuo codice qui"
   ]
  },
  {
   "cell_type": "markdown",
   "metadata": {},
   "source": [
    "__e)*__ Relazione tra __Pseudorapidità__ __$\\eta$__ e Massa dei muoni (dividi gli eventi in due classi di Pseudorapidità, alta o bassa, e plotta la massa dei muoni in entrambi i casi)"
   ]
  },
  {
   "cell_type": "code",
   "execution_count": 13,
   "metadata": {},
   "outputs": [],
   "source": [
    "#Inserisci il tuo codice qui, occhio che è un po' tosto"
   ]
  },
  {
   "cell_type": "markdown",
   "metadata": {},
   "source": [
    "\n",
    "<br>\n",
    "\n",
    "__AIUTINO:__ Cerca di utilizzare gli istogrammi 1D o 2D visti sopra!\n",
    "\n",
    "<img src=\"https://i.imgur.com/3fAd0w8.gif?1\"\n",
    "alt=\"Coding\">\n"
   ]
  }
 ],
 "metadata": {
  "colab": {
   "collapsed_sections": [],
   "default_view": {},
   "name": "Dimuon J/Psi for High School (Teacher Version with Code).ipynb",
   "provenance": [],
   "version": "0.3.2",
   "views": {}
  },
  "kernelspec": {
   "display_name": "Python 3 (ipykernel)",
   "language": "python",
   "name": "python3"
  },
  "language_info": {
   "codemirror_mode": {
    "name": "ipython",
    "version": 3
   },
   "file_extension": ".py",
   "mimetype": "text/x-python",
   "name": "python",
   "nbconvert_exporter": "python",
   "pygments_lexer": "ipython3",
   "version": "3.9.6"
  }
 },
 "nbformat": 4,
 "nbformat_minor": 4
}
