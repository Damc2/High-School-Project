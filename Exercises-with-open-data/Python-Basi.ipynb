{
 "cells": [
  {
   "cell_type": "markdown",
   "metadata": {},
   "source": [
    "# Le basi del linguaggio di programmazione Python"
   ]
  },
  {
   "cell_type": "markdown",
   "metadata": {},
   "source": [
    "In questo quaderno si familiarizza con le basi del linguaggio di programmazione Python e si forniscono esempi di base. Poiché la programmazione è più facile da imparare facendo, si raccomanda di sporcarsi le mani! In Jupyter gli esempi nel notebook possono essere eseguiti e personalizzati in modo interattivo. Anche le proprie note e il codice possono essere aggiunti accanto a questo testo. "
   ]
  },
  {
   "cell_type": "markdown",
   "metadata": {},
   "source": [
    "## Python – che cos'è?"
   ]
  },
  {
   "cell_type": "markdown",
   "metadata": {},
   "source": [
    "Python è un linguaggio di programmazione la cui versione più recente al momento è Python 3 rilasciato nel 2008. Python è abbastanza facile da imparare poiché la sua sintassi è relativamente semplice. Tuttavia con Python è possibile programmare anche ad alto livello.\n",
    "\n",
    "In questo notebook (vedremo poi che cos'è) vengono introdotte le basi di Python e alcuni esempi. Lo scopo principale è quello di offrire una panoramica compatta delle cose più comuni in Python al fine di usarlo con CMS Open Data. Questo notebook non coprirà tutte le caratteristiche di Python. La documentazione ufficiale di Python è disponibile su https://docs.python.org/3/."
   ]
  },
  {
   "cell_type": "markdown",
   "metadata": {},
   "source": [
    "## Hello, world!"
   ]
  },
  {
   "cell_type": "markdown",
   "metadata": {},
   "source": [
    "Iniziamo con il tradizionale esempio di \"Hello world\". \"Stampare\" testo in Python è possibile con la funzione _print( )_. La funzione prende un oggetto \"stampabile\" (per esempio una stringa, un numero) come argomento dentro le parentesi.\n",
    "\n",
    "Provate ad eseguire la cella di codice qui sotto cliccandoci sopra e poi premendo _Ctrl_ + _Enter_."
   ]
  },
  {
   "cell_type": "code",
   "execution_count": null,
   "metadata": {},
   "outputs": [],
   "source": [
    "print('Hello, world!')"
   ]
  },
  {
   "cell_type": "markdown",
   "metadata": {},
   "source": [
    "Puoi provare a scrivere nella cella di codice qui sotto un codice che stamperà il tuo nome. Prova ad eseguire il codice dopo aver scritto."
   ]
  },
  {
   "cell_type": "code",
   "execution_count": null,
   "metadata": {
    "tags": []
   },
   "outputs": [],
   "source": [
    "# Queste linee # separate sono commenti. Non influenzeranno il codice.\n",
    "# Scrivi un codice che stampi il tuo nome."
   ]
  },
  {
   "cell_type": "markdown",
   "metadata": {},
   "source": [
    "## Variabili in Python"
   ]
  },
  {
   "cell_type": "markdown",
   "metadata": {},
   "source": [
    "Nella programmazione si possono salvare diversi valori che si vogliono usare in seguito nelle __variabili__. Diversi tipi di variabili sono per esempio interi (int), numeri a virgola mobile (float) e stringhe di caratteri (string).\n",
    "\n",
    "In Python è facile creare variabili poiché l'utente non deve impostare il tipo di variabile. Solo il nome della variabile e il valore di essa sono necessari. Per esempio, creiamo una variabile chiamata particelle e salviamo il numero 2700 in essa:\n"
   ]
  },
  {
   "cell_type": "code",
   "execution_count": null,
   "metadata": {
    "tags": []
   },
   "outputs": [],
   "source": [
    "particelle = 2700"
   ]
  },
  {
   "cell_type": "markdown",
   "metadata": {},
   "source": [
    "Dopo aver fatto questo possiamo usare la variabile per esempio stampando il valore salvato in essa. Notate che ora non ci sono virgolette all'interno delle parentesi della funzione _print( )_. Le virgolette determinano una stringa (=testo) ma ora vogliamo stampare una variabile quindi non useremo le virgolette. Naturalmente potete modificare il codice e testare cosa succede se vengono aggiunte."
   ]
  },
  {
   "cell_type": "code",
   "execution_count": null,
   "metadata": {},
   "outputs": [],
   "source": [
    "print(particelle)"
   ]
  },
  {
   "cell_type": "markdown",
   "metadata": {},
   "source": [
    "Per salvare una stringa in una variabile si procede in modo simile. Creiamo una variabile chiamata _benvenuti_ e salviamo la stringa \"Benvenuti in Python\". Non preoccupatevi, non morde!\". Stampiamo anche questo."
   ]
  },
  {
   "cell_type": "code",
   "execution_count": null,
   "metadata": {},
   "outputs": [],
   "source": [
    "benvenuti = \"Benvenuti in Python. Non preoccupatevi, non morde!\"\n",
    "\n",
    "print(benvenuti)"
   ]
  },
  {
   "cell_type": "markdown",
   "metadata": {},
   "source": [
    "## Calcolare con Python"
   ]
  },
  {
   "cell_type": "markdown",
   "metadata": {},
   "source": [
    "Con Python è possibile fare molti tipi di calcoli. I calcoli più semplici funzionano scrivendo il calcolo nel codice e poi eseguendo il codice. Il codice restituirà poi il risultato del calcolo."
   ]
  },
  {
   "cell_type": "code",
   "execution_count": null,
   "metadata": {},
   "outputs": [],
   "source": [
    "3 + 5"
   ]
  },
  {
   "cell_type": "code",
   "execution_count": null,
   "metadata": {},
   "outputs": [],
   "source": [
    "print(3 - 5)\n",
    "print(3 * 5)\n",
    "print(7 / 5)"
   ]
  },
  {
   "cell_type": "markdown",
   "metadata": {},
   "source": [
    "In calcoli più complessi si possono usare variabili e liste. Oltre alle operazioni di base ci sono molte funzioni e comandi matematici pronti all'uso disponibili utilizzando i __moduli__. L'uso dei moduli è trattato nella sezione _Moduli_ qui sotto."
   ]
  },
  {
   "cell_type": "markdown",
   "metadata": {},
   "source": [
    "## Funzioni"
   ]
  },
  {
   "cell_type": "markdown",
   "metadata": {},
   "source": [
    "Con le __funzioni__ è possibile fare cose più complesse che stampare o calcolare un valore. La funzione è un sottoprogramma che sarà chiamato nel programma attuale per fare la cosa desiderata. In pratica la funzione è un pezzo di codice che farà il compito per cui è stato scritto.\n",
    "\n",
    "Per esempio qui sotto ricorderemo la funzione _abs( )_ di Python che restituirà il valore assoluto del numero (o della variabile) dato ad essa. Il valore dato come input alla funzione è chiamato __argomento__.\n",
    " "
   ]
  },
  {
   "cell_type": "code",
   "execution_count": null,
   "metadata": {},
   "outputs": [],
   "source": [
    "abs(-2)"
   ]
  },
  {
   "cell_type": "markdown",
   "metadata": {},
   "source": [
    "La funzione _abs( )_ è un esempio di funzione built-in di Python. Le funzioni integrate sono sempre disponibili in Python. La lista delle funzioni built-in di Python può essere trovata su  https://docs.python.org/3/library/functions.html.\n",
    "\n",
    "È anche possibile definire funzioni da soli. Con Python 3 questo può essere fatto con il comando def. Definiamo per esempio una funzione che calcolerà la radice quadrata di un argomento dato e stamperà anche un breve testo. Chiamiamo la nostra funzione _quadrato_."
   ]
  },
  {
   "cell_type": "code",
   "execution_count": null,
   "metadata": {
    "tags": []
   },
   "outputs": [],
   "source": [
    "def quadrato(a):\n",
    "    print(a*a)\n",
    "    print(\"Hai appena usato la funzione!\")"
   ]
  },
  {
   "cell_type": "markdown",
   "metadata": {},
   "source": [
    "Ora possiamo usare la funzione che abbiamo creato chiamandola con il suo nome e dandole qualche argomento."
   ]
  },
  {
   "cell_type": "code",
   "execution_count": null,
   "metadata": {},
   "outputs": [],
   "source": [
    "quadrato(4)"
   ]
  },
  {
   "cell_type": "markdown",
   "metadata": {},
   "source": [
    "## Moduli"
   ]
  },
  {
   "cell_type": "markdown",
   "metadata": {},
   "source": [
    "Ci sono molte funzioni diverse già pre-confezionate per scopi diversi. Spesso le funzioni incorporate non sono sufficienti, quindi altre funzioni possono essere aggiunte con i __moduli__. I moduli sono praticamente file di codice che includono funzioni.\n",
    "\n",
    "I moduli possono essere importati con il comando _import_. Per esempio, importiamo il modulo _math_ e usiamo la funzione _sqrt( )_ di quel modulo. Quando chiamiamo la funzione _sqrt( )_ dobbiamo dire che la stiamo chiamando dal modulo _math_. Questo viene fatto scrivendo il nome del modulo separato con il punto prima del nome della funzione."
   ]
  },
  {
   "cell_type": "code",
   "execution_count": null,
   "metadata": {},
   "outputs": [],
   "source": [
    "import math\n",
    "\n",
    "math.sqrt(9)"
   ]
  },
  {
   "cell_type": "markdown",
   "metadata": {},
   "source": [
    "Come è possibile allora sapere quali moduli ci sono? Una lista dei moduli Python può essere trovata su https://docs.python.org/3/py-modindex.html. Anche molti __packages__ possono essere usati con Python. I packages includono moduli per Python. Una lista di diversi pacchetti Python può essere trovata su https://pypi.python.org/pypi.\n",
    "\n",
    "La ricerca sul web è utile anche quando si vuole scoprire quali moduli e pacchetti ci sono. Con un paio di parole di ricerca è facile trovare un modulo o un pacchetto adatto allo scopo che si desidera raggiungere."
   ]
  },
  {
   "cell_type": "markdown",
   "metadata": {},
   "source": [
    "# Esercizio - le basi di Python"
   ]
  },
  {
   "cell_type": "markdown",
   "metadata": {},
   "source": [
    "\n",
    "Scrivi nella cella di codice qui sotto un programma che farà i seguenti passi:\n",
    "\n",
    "   - creare una variabile _raperonzolo_ e salvare in essa una stringa \"C'è ora del testo nella nostra variabile\".\n",
    "   - stampare il contenuto della variabile _raperonzolo_\n",
    "   - fare in modo che il codice cambi il valore della variabile _raperonzolo_ con il numero 8.256\n",
    "   - stampare di nuovo il contenuto della variabile _raperonzolo_\n"
   ]
  },
  {
   "cell_type": "code",
   "execution_count": null,
   "metadata": {
    "tags": []
   },
   "outputs": [],
   "source": []
  }
 ],
 "metadata": {
  "kernelspec": {
   "display_name": "Python 3 (ipykernel)",
   "language": "python",
   "name": "python3"
  },
  "language_info": {
   "codemirror_mode": {
    "name": "ipython",
    "version": 3
   },
   "file_extension": ".py",
   "mimetype": "text/x-python",
   "name": "python",
   "nbconvert_exporter": "python",
   "pygments_lexer": "ipython3",
   "version": "3.9.6"
  }
 },
 "nbformat": 4,
 "nbformat_minor": 4
}
