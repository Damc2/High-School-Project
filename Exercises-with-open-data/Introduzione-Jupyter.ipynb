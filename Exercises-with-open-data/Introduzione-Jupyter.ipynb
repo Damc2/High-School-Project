{
 "cells": [
  {
   "cell_type": "markdown",
   "metadata": {
    "tags": []
   },
   "source": [
    "# Introduzione a Jupyter Notebook"
   ]
  },
  {
   "cell_type": "markdown",
   "metadata": {},
   "source": [
    "Benvenuti in Jupyter Notebook!\n",
    "\n",
    "Questo tutorial contiene le basi dell'applicazione Jupyter Notebook. Se hai aperto questo tutorial in Jupyter puoi testare diverse funzionalità, modificare il contenuto e creare commenti. \n",
    "\n",
    "Questo documento contiene:<br>\n",
    "1. [Cos'è Jupyter Notebook?](#whatis)\n",
    "2. [Interfaccia utente](#interface)\n",
    "3. [Celle](#cells) <br>\n",
    "    3.1 [Creare e modificare le celle](#createcell) <br>\n",
    "    3.2 [Eseguire la cella](#runcell) <br>\n",
    "    3.3 [Cella Markdown](#markdown) <br>\n",
    "    3.4 [Cella di intestazione](#heading) <br>\n",
    "    3.5 [Cella di codice](#code) <br>\n",
    "\n",
    "[Breve esercizio](#exercise)"
   ]
  },
  {
   "cell_type": "markdown",
   "metadata": {},
   "source": [
    "<a id=\"whatis\"></a>\n",
    "## 1. Cos'è Jupyter Notebook?"
   ]
  },
  {
   "cell_type": "markdown",
   "metadata": {},
   "source": [
    "Jupyter Notebook è un'applicazione web che permette di creare documenti che combinano codice di programmazione, testo regolare, immagini, visualizzazioni ed equazioni matematiche. Questi documenti sono chiamati __notebook__.\n",
    "\n",
    "Jupyter è un'applicazione open-source. Supporta oltre 40 diversi linguaggi di programmazione, tra cui per esempio Python, C++, JavaScript e Ruby.\n"
   ]
  },
  {
   "cell_type": "markdown",
   "metadata": {},
   "source": [
    "<a id=\"interface\"></a>\n",
    "## 2. Interfaccia utente"
   ]
  },
  {
   "cell_type": "markdown",
   "metadata": {},
   "source": [
    "Jupyter usa un'interfaccia utente basata su browser. Le parti più importanti dell'interfaccia sono il menù e la barra degli strumenti nella parte superiore dell'interfaccia (vedi immagine sotto).\n",
    "<br>\n",
    "<img src=\"../Images/jupyter_toolbar.jpg\">\n",
    "<br>\n",
    "Jupyter è usato in due diverse modalità: in __modalità modifica__ e in __modalità comando__. In modalità di modifica è possibile modificare il contenuto di una parte del notebook, una cella. In modalità comando il notebook sarà gestito nel suo insieme.\n",
    "\n",
    "Il modo modifica può essere attivato premendo Invio o facendo doppio clic sulla cella che si vuole modificare. Si può tornare al modo comando premendo Esc o facendo di nuovo doppio clic. Dalla destra del menu è possibile controllare in quale modalità si trova Jupyter. Se la matita è mostrata come nell'immagine qui sotto\n",
    "\n",
    "<img src=\"../Images/editmode.png\" align=\"left\">\n",
    "<br>\n",
    "<br>\n",
    "allora la modalità modifica è attiva e il lato della cella è verde. Altrimenti la modalità di comando è attiva e il lato della cella è blu.\n",
    "\n",
    "I comandi chiave in modalità modifica e in modalità comando sono diversi. A seconda della modalità in cui si trova Jupyter, lo stesso pulsante può avere azioni diverse. Per esempio in modalità comando il pulsante _s_ salverà il notebook ma in modalità modifica il pulsante _s_ scrive la lettera \"s\" nella cella che viene modificata.\n"
   ]
  },
  {
   "cell_type": "markdown",
   "metadata": {},
   "source": [
    "<a id=\"cells\"></a>\n",
    "## 3. Celle"
   ]
  },
  {
   "cell_type": "markdown",
   "metadata": {},
   "source": [
    "Tutto il contenuto del quaderno è scritto in __celle__. Qui sotto c'è per esempio una cella di codice. Anche questo testo che state leggendo è scritto nella propria cella, la cella di testo. Le celle possono essere eseguite. L'esecuzione della cella farà fare alla cella azioni diverse a seconda del tipo di cella."
   ]
  },
  {
   "cell_type": "code",
   "execution_count": 1,
   "metadata": {
    "tags": []
   },
   "outputs": [],
   "source": [
    "# Questa è una cella di codice che include solo questa linea di commento e nessun codice in realtà."
   ]
  },
  {
   "cell_type": "markdown",
   "metadata": {},
   "source": [
    "Ci sono quattro diversi tipi di celle in Jupyter: __codice__ (codice di programmazione), __Markdown__ (testo normale), __heading__ e __raw__ (codice che verrà lasciato fuori dal contenuto del notebook). Le più importanti sono le celle Code e Markdown.\n",
    "\n",
    "Ci sono alcune utili scorciatoie elencate nella tabella qui sotto. Puoi anche controllare come creare una tabella e impostare diversi allineamenti per le colonne. Informazioni più precise sulle celle si trovano nelle seguenti sottosezioni.\n",
    "\n",
    "|Shortkey <br> (Cella non attiva \\*)|   Function  | Shortkey <br> (Cella attiva \\**)     | Function        |\n",
    "|:---:               |:---                       |  :---:           | ---:                               |\n",
    "| a/b                |nuova cella sopra/sotto      | Ctrl + Enter     | esegui cella                           |\n",
    "| dd                 | elimina cella               | Shift + Enter    | esegui cella e attiva la cella seguente    |\n",
    "| m/y                | testo/cella di codice            | Alt + Enter      | esegui la cella e creane una nuova sotto |\n",
    "| su/giù            | cella precedente/successiva        | Ctrl + Shift + - | dividi cella                        |\n",
    "| s                  | salva                      | Ctrl + S         | salva                               |\n",
    "| (centrato)           | (allineato a sinistra)              | (left aligned)        | (allineato a destra)           | \n",
    " \n",
    "\n",
    "\\* *Cella non attiva* si riferisce alla modalità di comando quando il cursore è fuori dalla cella e il lato della cella è blu. <br>\n",
    "\\*\\* *Cella attiva* si riferisce alla modalità di modifica quando il cursore è attivo all'interno della cella e il lato della cella è verde. <br>"
   ]
  },
  {
   "cell_type": "markdown",
   "metadata": {},
   "source": [
    "<a id=\"createcell\"></a>\n",
    "### 3.1 Creazione e modifica delle celle"
   ]
  },
  {
   "cell_type": "markdown",
   "metadata": {},
   "source": [
    "Una nuova cella può essere creata sotto quella selezionata:\n",
    "- selezionando _Insert_ $\\rightarrow$ _Insert Cell Below_ dal menù\n",
    "- cliccando l'icona $+$ nella barra degli strumenti\n",
    "- premendo _b_ sulla tasstiera in modalità comando. \n",
    "\n",
    "Se stai leggendo questo tutorial in Jupyter puoi ora provare ad aggiungere una nuova cella sotto questa cella di testo. Puoi anche aggiungere una cella sopra quella selezionata premendo a in modalità comando.\n",
    "\n",
    "Dopo aver creato la cella, il tipo di cella può essere selezionato. La selezione può essere fatta sia con la selezione della barra degli strumenti\n",
    "\n",
    "\n",
    "<img src=\"../Images/celltype.png\" align=\"left\">\n",
    "<br>\n",
    "<br>\n",
    "o con le scorciatoie da tastiera in modalità comando. Il pulsante _m_ seleziona una cella Markdown, il pulsante _y_ una cella di codice e il pulsante _r_ una cella raw.\n",
    "\n",
    "La cella può essere modificata passando alla modalità di modifica premendo Invio o facendo doppio clic sulla cella. Il tipo di cella può essere cambiato anche se c'è del contenuto nella cella.\n",
    "\n",
    "La cancellazione della cella si fa nel modo più semplice premendo due volte il pulsante _d_ quando la cella è selezionata (blu).\n",
    " <br> La cancellazione può essere effettuata anche selezionando _Edit_ $\\rightarrow$ _Delete Cells_ dal menù."
   ]
  },
  {
   "cell_type": "markdown",
   "metadata": {},
   "source": [
    "<a id=\"runcell\"></a>\n",
    "### 3.2 Esecuzione della cella"
   ]
  },
  {
   "cell_type": "markdown",
   "metadata": {},
   "source": [
    "La caratteristica più importante di Jupyter Notebook è l'esecuzione delle celle. Dopo l'esecuzione, la cella farà le azioni per cui è stata scritta. Il contenuto della cella Markdown si trasformerà in testo regolare e la cella di codice farà ciò che è scritto in essa nel linguaggio di programmazione selezionato.\n",
    "\n",
    "Forse avete notato prima che dopo aver modificato una cella Markdown ed essere usciti, la cella non ritorna automaticamente in testo normale. Questo accade perché la cella deve essere eseguita dopo averla modificata.\n",
    "\n",
    "L'unico tipo di cella che non viene eseguita direttamente in Jupyter è la cella raw. \n",
    "\n",
    "L'esecuzione della cella può essere fatta in almeno due modi diversi:\n",
    "\n",
    "- shortkey _Ctrl_ + _Enter_ che è il più facile e utile da sapere\n",
    "- _Run_->_Run selected cells_ icona dalla barra degli strumenti. <br>\n",
    "\n",
    "<br>\n",
    "Prova le celle di codice qua sotto!"
   ]
  },
  {
   "cell_type": "code",
   "execution_count": 2,
   "metadata": {},
   "outputs": [
    {
     "name": "stdout",
     "output_type": "stream",
     "text": [
      "Hello World!\n"
     ]
    }
   ],
   "source": [
    "# Questa è una cella di codice. Dopo aver eseguito la cella il testo \"Hello world!\" dovrebbe essere stampato.\n",
    "\n",
    "print('Hello World!')"
   ]
  },
  {
   "cell_type": "markdown",
   "metadata": {},
   "source": [
    "Ora vediamo più da vicino le celle Markdown, heading e codice."
   ]
  },
  {
   "cell_type": "markdown",
   "metadata": {},
   "source": [
    "<a id=\"markdown\"></a>\n",
    "### 3.3 Cella Markdown"
   ]
  },
  {
   "cell_type": "markdown",
   "metadata": {},
   "source": [
    "Le celle Markdown utilizzano il linguaggio di markup Markdown (https://daringfireball.net/projects/markdown/). Markdown rende possibile formattare facilmente il testo semplice. Il testo può essere per esempio messo in __grassetto__, _in corsivo_ o ~~sbarrato~~.\n",
    "\n",
    ">Per esempio questo tipo di blockquote può essere aggiunto nel testo.\n",
    "\n",
    "Anche le liste sono facili da creare con Markdown.\n",
    "\n",
    "Lista della spesa:\n",
    "\n",
    "    pomodori\n",
    "    latte\n",
    "    caffè\n",
    "    \n",
    "    \n",
    "    \n",
    "In questo tutorial i comandi di formattazione Markdown non sono gestiti in modo più accurato, ma una buona lista di diversi comandi può essere trovata per esempio dalla pagina web https://github.com/adam-p/markdown-here/wiki/Markdown-Cheatsheet. Puoi anche entrare in modalità modifica in questa cella Markdown e vedere come sono stati realizzati i diversi formati.\n"
   ]
  },
  {
   "cell_type": "markdown",
   "metadata": {},
   "source": [
    "<a id=\"heading\"></a>\n",
    "### 3.4 Cella heading (di intestazione)"
   ]
  },
  {
   "cell_type": "markdown",
   "metadata": {},
   "source": [
    "Le celle di intestazione non sono in realtà nemmeno tipi di celle proprie, ma più probabilmente scorciatoie per creare intestazioni. Questo perché le celle di intestazione usano anche Markdown, quindi fondamentalmente sono celle Markdown.\n",
    "\n",
    "Le intestazioni di livello diverso sono determinate in Markdown con i caratteri #. Qui sotto ci sono i livelli di intestazione che sono in uso in Jupyter a partire da # tagged, continuando a ## tagged e finendo in ###### tagged heading.\n"
   ]
  },
  {
   "cell_type": "markdown",
   "metadata": {},
   "source": [
    "# Primo tipo di intestazione"
   ]
  },
  {
   "cell_type": "markdown",
   "metadata": {},
   "source": [
    "## Secondo tipo di intestazione"
   ]
  },
  {
   "cell_type": "markdown",
   "metadata": {},
   "source": [
    "##### Quinto tipo di intestazione"
   ]
  },
  {
   "cell_type": "markdown",
   "metadata": {},
   "source": [
    "Anche se le celle Heading e le celle Markdown sono fondamentalmente le stesse, si raccomanda di tenere le intestazioni nelle proprie celle separate dal testo. Questo rende la compilazione del testo più facile per il programma."
   ]
  },
  {
   "cell_type": "markdown",
   "metadata": {},
   "source": [
    "<a id=\"code\"></a>\n",
    "### 3.5 Cella di codice"
   ]
  },
  {
   "cell_type": "markdown",
   "metadata": {},
   "source": [
    "Il codice di programmazione nel linguaggio di programmazione selezionato (il kernel determina il linguaggio) può essere scritto nelle celle di codice. Per esempio, se il notebook usa il kernel Python 3, i comandi Python 3 possono essere eseguiti nelle celle di codice. Se in questo caso qualche altro linguaggio di programmazione venisse scritto nelle celle di codice, il codice non verrebbe compilato perché verrebbe interpretato come codice Python 3.\n",
    "\n",
    "Il codice scritto nelle celle di codice si comporta in modo simile a quello di altri ambienti di programmazione. Questo è possibile grazie al kernel IPython. L'esecuzione del codice è in sintesi basata sulla connessione tra il notebook e il kernel. Il codice viene effettivamente eseguito nel kernel. Il kernel comunicherà con il notebook e darà i risultati dell'esecuzione. I risultati dell'esecuzione del codice saranno visti nella parte di output sotto la cella del codice.\n",
    "\n",
    "Per esempio nella cella di codice sottostante il risultato del calcolo 3 + 4 viene salvato nella variabile _risultato_. Dopo di che viene chiesto di mostrare il valore del risultato. Quando il codice viene eseguito, la creazione della variabile e il calcolo vengono fatti nel kernel. Infine il kernel restituisce i risultati al notebook e il numero 7 appare nella parte di _output_.\n"
   ]
  },
  {
   "cell_type": "code",
   "execution_count": 3,
   "metadata": {},
   "outputs": [
    {
     "data": {
      "text/plain": [
       "7"
      ]
     },
     "execution_count": 3,
     "metadata": {},
     "output_type": "execute_result"
    }
   ],
   "source": [
    "result = 3 + 4\n",
    "result"
   ]
  },
  {
   "cell_type": "markdown",
   "metadata": {},
   "source": [
    "L'output della cella di codice non si limita solo a numeri o testo. L'output può anche essere, per esempio, un grafico. Nella cella di codice qui sotto diverse coppie di numeri sono tracciate con il modulo _matplotlib_ e l'output sarà un grafico."
   ]
  },
  {
   "cell_type": "code",
   "execution_count": 1,
   "metadata": {},
   "outputs": [
    {
     "data": {
      "image/png": "[encoded data removed]",
      "text/plain": [
       "<Figure size 432x288 with 1 Axes>"
      ]
     },
     "metadata": {
      "needs_background": "light"
     },
     "output_type": "display_data"
    }
   ],
   "source": [
    "import matplotlib.pyplot as plt\n",
    "\n",
    "%matplotlib inline\n",
    "numbers = [1,2,3,6,7,8,12,16]\n",
    "plt.plot(numbers, 'ro')\n",
    "plt.show()"
   ]
  },
  {
   "cell_type": "code",
   "execution_count": null,
   "metadata": {},
   "outputs": [],
   "source": []
  }
 ],
 "metadata": {
  "kernelspec": {
   "display_name": "Python 3 (ipykernel)",
   "language": "python",
   "name": "python3"
  },
  "language_info": {
   "codemirror_mode": {
    "name": "ipython",
    "version": 3
   },
   "file_extension": ".py",
   "mimetype": "text/x-python",
   "name": "python",
   "nbconvert_exporter": "python",
   "pygments_lexer": "ipython3",
   "version": "3.9.6"
  }
 },
 "nbformat": 4,
 "nbformat_minor": 4
}
