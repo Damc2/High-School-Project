{
 "cells": [
  {
   "cell_type": "markdown",
   "metadata": {},
   "source": [
    "# Importing a CMS open data file and creating histograms to analyze data"
   ]
  },
  {
   "cell_type": "markdown",
   "metadata": {},
   "source": [
    "This activity will help you practice with Jupyter Notebook. <br> <br>\n",
    "Select a data file to analyze from http://opendata.cern.ch/record/545. <br>\n",
    "For the example, download Dimuon_DoubleMu.cvs and save it to a folder named data. <br>\n",
    "Note, there are other files available, but the file must be comma separated values (.csv). <br> <br>\n",
    "\n",
    "Boxes, like this, that give instruction but not code, can be entered by selelcting \"Markdown\" from the dropdown menu above. <br>\n",
    "If you are returning a page after working on it previously, it is reccommended that you select \"Kernel\" \"Restart & Clear Output\" <br>\n",
    "To enter code, select \"Code\" from the dropdown menu.<br>\n",
    "Code may be copied, pasted from other sources and edited.<br>\n",
    "First you will need to import the packages pandas and matplotlib.pyplot."
   ]
  },
  {
   "cell_type": "code",
   "execution_count": null,
   "metadata": {
    "collapsed": false
   },
   "outputs": [],
   "source": [
    "import pandas\n",
    "import matplotlib.pyplot as plt\n",
    "%matplotlib inline"
   ]
  },
  {
   "cell_type": "markdown",
   "metadata": {},
   "source": [
    "After entering a code box, press ctrl & enter at the same time to run the code. An asterisk will appear in the IN[] while the command is being processed. <br>\n",
    "Wait until a number appears in that location before proceeding.  <br>\n",
    "Error messages will appear in pink and will indicate information regarding the error.  <br>\n",
    "To use the file you have downloaded, it must be saved into a variable. Type the file location and name exactly as it appears on your computer.  <br>\n",
    "In our example the file is data/Dimuon_DoubleMu.cvs.  <br>\n",
    "Save the data into variable dataset and check the contents of the first 5 rows."
   ]
  },
  {
   "cell_type": "code",
   "execution_count": null,
   "metadata": {
    "collapsed": false,
    "scrolled": true
   },
   "outputs": [],
   "source": [
    "dataset = pandas.read_csv('data/Dimuon_DoubleMu.csv')\n",
    "\n",
    "dataset.head()"
   ]
  },
  {
   "cell_type": "markdown",
   "metadata": {},
   "source": [
    "For the given example, the invariant mass is of particular interest. To create a histogram of the invariant mass column, save the dataset based on the column heading exactly as it appears in the table (M) as a variable invariant_mass. <br>\n",
    "Plot a histogram, stating which variable to plot, setting the number of bins and range.\n",
    "In the example below, we use 50 bins and plot from 0 to 200 GeV. \n"
   ]
  },
  {
   "cell_type": "code",
   "execution_count": null,
   "metadata": {
    "collapsed": false
   },
   "outputs": [],
   "source": [
    "invariant_mass = dataset['M']\n",
    "\n",
    "plt.hist(invariant_mass, bins=50, range=(0,200))\n",
    "plt.show()"
   ]
  },
  {
   "cell_type": "markdown",
   "metadata": {},
   "source": [
    "The number of bins and range can be varied in order to more clearly analyze the data. <br>\n",
    "\n",
    "Below are commands to replot the graph with a title and axis labels."
   ]
  },
  {
   "cell_type": "code",
   "execution_count": null,
   "metadata": {
    "collapsed": false
   },
   "outputs": [],
   "source": [
    "plt.xlabel('Invariant mass [GeV]')\n",
    "plt.ylabel('Number of events')\n",
    "plt.title('The histogram of the invariant masses of two muons \\n')\n",
    "\n",
    "plt.hist(invariant_mass, bins=50, range=(0,200))\n",
    "plt.show()"
   ]
  },
  {
   "cell_type": "markdown",
   "metadata": {},
   "source": [
    "The graph above demonstrates background events below approximately 50 GeV and a peak at approximately 90 GeV."
   ]
  },
  {
   "cell_type": "markdown",
   "metadata": {},
   "source": [
    "Mathematical operations, such as addition or subtraction, may be performed on the data by defining new variables which allows the data to be further sorted. <br>\n",
    "In the example below, the original data is divided into two new datasets based on the energy of the collision. Each dataset is given a name and organized in this case by high energy (>150 GeV), and low energy (<150 GeV)."
   ]
  },
  {
   "cell_type": "code",
   "execution_count": null,
   "metadata": {
    "collapsed": true
   },
   "outputs": [],
   "source": [
    "newsethighE = dataset[dataset.E1+dataset.E2>150]\n",
    "newsetlowE = dataset[dataset.E1+dataset.E2<150]"
   ]
  },
  {
   "cell_type": "markdown",
   "metadata": {},
   "source": [
    "The new dataset can be plotted separately as was done previously above or on one plot. <br>\n",
    "The two histograms can be overlaid by adjusting the transparency using the alpha command as shown.\n",
    " <br>\n",
    "Labels for each data set are included in the legend located in the upper right corner. <br>\n",
    "We can also change the range to focus on the event of interest."
   ]
  },
  {
   "cell_type": "code",
   "execution_count": null,
   "metadata": {
    "collapsed": false
   },
   "outputs": [],
   "source": [
    "plt.xlabel('Invariant mass [GeV]')\n",
    "plt.ylabel('Number of events')\n",
    "plt.title('The invariant masses of two muons comparing high and low energy\\n')\n",
    "plt.hist(newsetlowE ['M'], bins=50, range=(80,100),alpha=0.5, label='Low E')\n",
    "plt.hist(newsethighE ['M'], bins=50, range=(80,100),alpha=0.5, label='High E')\n",
    "plt.legend (loc='upper right')\n",
    "plt.show()\n"
   ]
  }
 ],
 "metadata": {
  "kernelspec": {
   "display_name": "Python 2",
   "language": "python",
   "name": "python2"
  },
  "language_info": {
   "codemirror_mode": {
    "name": "ipython",
    "version": 2
   },
   "file_extension": ".py",
   "mimetype": "text/x-python",
   "name": "python",
   "nbconvert_exporter": "python",
   "pygments_lexer": "ipython2",
   "version": "2.7.13"
  }
 },
 "nbformat": 4,
 "nbformat_minor": 1
}
