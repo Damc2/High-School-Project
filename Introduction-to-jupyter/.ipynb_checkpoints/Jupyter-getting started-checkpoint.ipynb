{
 "cells": [
  {
   "cell_type": "markdown",
   "metadata": {},
   "source": [
    "# Getting started with Jupyter Notebook"
   ]
  },
  {
   "cell_type": "markdown",
   "metadata": {},
   "source": [
    "Welcome to Jupyter Notebook!\n",
    "\n",
    "This tutorial contains basics of the Jupyter Notebook application. If you have opened this tutorial in Jupyter you can test different features, modify the content and create comments. If you haven't installed the Jupyter yet, you can find the instructions for installing below in the section _Installing Jupyter Notebook_.\n",
    "\n",
    "You can also open a free test version at https://try.jupyter.org/ or you can create a free account on the CoCalc service at https://cocalc.com/. CoCalc makes it possible to use Jupyter in cloud without installing it to your computer.\n",
    "\n",
    "For more detailed instructions, the official documentation of the Jupyter project can be found at http://jupyter.readthedocs.io/en/latest/index.html. The Jupyter Notebook documentation is available at http://jupyter-notebook.readthedocs.io/en/latest/."
   ]
  },
  {
   "cell_type": "markdown",
   "metadata": {},
   "source": [
    "### What is Jupyter Notebook?"
   ]
  },
  {
   "cell_type": "markdown",
   "metadata": {},
   "source": [
    "Jupyter Notebook is a web application which makes it possible to create documents that combine programming code, regular text, images, visualizations and mathematical equations. These documents are called __notebooks__.\n",
    "\n",
    "Jupyter is an open-source application. It supports over 40 different programming languages, including for example Python, C++, JavaScript and Ruby."
   ]
  },
  {
   "cell_type": "markdown",
   "metadata": {},
   "source": [
    "### Installing Jupyter Notebook"
   ]
  },
  {
   "cell_type": "markdown",
   "metadata": {},
   "source": [
    "There are couple of different ways to install the Jupyter Notebook. The easiest and recommended option is to perform the installation with Anaconda. Anaconda installs Jupyter Notebooks, Python and some useful Python packages all at once. The installation is easy:\n",
    "- Download Anaconda from https://www.continuum.io/downloads. It is recommended to download the latest Python version.\n",
    "- Install Anaconda with the installation wizard that was downloaded.\n",
    "- After the installation you can start Jupyter either by opening the application _Anaconda Navigator_ and the choosing Jupyter Notebook from the menu or by writing the command _jupyter notebook_ to command line.\n",
    "\n",
    "Other options for installing Jupyter can be found from http://jupyter.readthedocs.io/en/latest/install.html."
   ]
  },
  {
   "cell_type": "markdown",
   "metadata": {},
   "source": [
    "### Starting and creating a new notebook"
   ]
  },
  {
   "cell_type": "markdown",
   "metadata": {},
   "source": [
    "Jupyter Notebook can be started either with the _Anaconda Navigator_ or with the command line as explained below. After starting, the Jupyter __dashboard__ will open in the browser showing your files.\n",
    "\n",
    "With the dashboard notebooks can be created, opened or deleted. Also the operation of Jupyter can be managed. We will explore the dashboard more in the section _Saving the notebook and using the dashboard_.\n",
    "\n",
    "A new notebook can be created with the _New_ button in the top-right of the dashboard. Pressing the button will open a menu where under the text _Notebooks_ the __kernel__ of the notebook can be selected. The kernel determines which programming language (e.g. Python 2, Python 3, C++...) the notebook will use. The number of kernels available depends on how much kernels the user have installed.\n",
    "\n",
    "In this tutorial we are using the Python 3 language. After selecting the kernel the new notebook will open in a new tab."
   ]
  },
  {
   "cell_type": "markdown",
   "metadata": {},
   "source": [
    "### User interface"
   ]
  },
  {
   "cell_type": "markdown",
   "metadata": {},
   "source": [
    "Jupyter uses a browser based user interface. The most important parts of the interface are the menu and the toolbar on the top of the interface (see picture below) and the notebook area.\n",
    "<br>\n",
    "<img src=\"../Images/jupyter_toolbar.jpg\">\n",
    "<br>\n",
    "Jupyter is used in two different modes: in __edit mode__ and in __command mode__. In edit mode it is possible to modify content of one part of the notebook, a __cell__. In command mode the notebook will be handled as a whole.\n",
    "\n",
    "Edit mode can be activated by pressing _Enter_ or by double-clicking the cell that is wanted to be edited. One can get back to the command mode by pressing _Esc_ or by double-clicking again. From the right of the menu it is possible to check in which mode Jupyter is. If the pencil is shown like in the image below\n",
    "\n",
    "<img src=\"../Images/editmode.png\" align=\"left\">\n",
    "<br>\n",
    "<br>\n",
    "then edit mode is on and the side of the cell is green. Otherwise command mode is on and the side of the cell is blue.\n",
    "\n",
    "The key commands in edit mode and in command mode differ. Depending on which mode Jupyter is, same button can have different actions. For example in command mode the button _s_ will save the notebook but in edit mode the button _s_ writes the letter \"s\" in the cell that is edited."
   ]
  },
  {
   "cell_type": "markdown",
   "metadata": {},
   "source": [
    "### Cells"
   ]
  },
  {
   "cell_type": "markdown",
   "metadata": {},
   "source": [
    "All content of the notebook is written in __cells__. In below there is for example a cell that is determined to be a code cell. Also this text that you are reading is written in the own cell, text cell. Cells can be run. Running the cell will make the cell do different actions depending on the type of the cell."
   ]
  },
  {
   "cell_type": "code",
   "execution_count": 5,
   "metadata": {
    "collapsed": true
   },
   "outputs": [],
   "source": [
    "# This is a code cell that includes just this comment line and no code at all actually."
   ]
  },
  {
   "cell_type": "markdown",
   "metadata": {},
   "source": [
    "There are four different cell types in Jupyter: __code__ (programming code), __Markdown__ (normal text), __heading__ and __raw__ (code that will be left off from the content of the notebook). The most important ones are code cells and Markdown cells."
   ]
  },
  {
   "cell_type": "markdown",
   "metadata": {},
   "source": [
    "### Creating and editing the cell"
   ]
  },
  {
   "cell_type": "markdown",
   "metadata": {},
   "source": [
    "A new cell can be created by selecting _Insert_ -> _Insert Cell Below_ from the menu, by clicking the $+$ button on the toolbar or by pressing _b_ from the keyboard. If you are reading this tutorial in Jupyter you can now try to add a new cell below this text cell.\n",
    "\n",
    "After creating the cell, the type of the cell can be selected. Selection can be done either with the toolbar selection\n",
    "\n",
    "<img src=\"../Images/celltype.png\" align=\"left\">\n",
    "<br>\n",
    "<br>\n",
    "or with keyboard shortcuts in command mode. Button _m_ selects a Markdown cell, button _y_ a code cell and button _r_ a raw cell.\n",
    "\n",
    "The cell can be edited by moving to edit mode by pressing _Enter_ or by double-clicking the cell. The type of the cell can be changed even if there is content in the cell.\n",
    "\n",
    "Deleting the cell is done the easiest way by double-pressing the button _d_ when the cell is selected (blue). Deleting can be also done by selecting _Edit_ -> _Delete Cells_ from the menu."
   ]
  },
  {
   "cell_type": "markdown",
   "metadata": {},
   "source": [
    "### Running the cell"
   ]
  },
  {
   "cell_type": "markdown",
   "metadata": {},
   "source": [
    "The most important feature of Jupyter Notebook is the running of cells. After running, the cell will do actions that it is meant to do. Content of the Markdown cell will turn into regular text and the code cell will do what is written in it in the selected programming language.\n",
    "\n",
    "You maybe noticed earlier that after editing a Markdown cell and exiting it, the cell didn't return into normal text automatically. That happens because the cell needs to be run after editing it.\n",
    "\n",
    "The only cell type that won't be run straight in Jupyter is the raw cell. The code written in the raw cell is meant for example for the output of the _nbconvert_ tool (https://github.com/jupyter/nbconvert). With the nbconvert notebooks can be imported in other file formats.\n",
    "\n",
    "Running the cell can be done in three different ways. \n",
    "- shortkey _Ctrl_ + _Enter_ which is the fastest and most useful to learn\n",
    "- _Cells_ -> _Run Cells_ from the menu\n",
    "- _run cell, select below_ button from the toolbar. <br>\n",
    "<img src=\"../Images/cellrun.png\", align=\"left\">\n",
    "<br>\n",
    "\n",
    "<br>\n",
    "If you are reading the tutorial in Jupyter you can try to run the code cell below. You can also edit the cell and then run it again."
   ]
  },
  {
   "cell_type": "code",
   "execution_count": 6,
   "metadata": {},
   "outputs": [
    {
     "name": "stdout",
     "output_type": "stream",
     "text": [
      "Hello world!\n"
     ]
    }
   ],
   "source": [
    "# This is a code cell. After running the cell the text \"Hello world!\" should be printed.\n",
    "\n",
    "print('Hello world!')"
   ]
  },
  {
   "cell_type": "markdown",
   "metadata": {},
   "source": [
    "Now let's have a closer look at the Markdown, heading and code cells."
   ]
  },
  {
   "cell_type": "markdown",
   "metadata": {},
   "source": [
    "### Markdown cell"
   ]
  },
  {
   "cell_type": "markdown",
   "metadata": {},
   "source": [
    "Markdown cells use the Markdown markup language (https://daringfireball.net/projects/markdown/). Markdown makes it possible to easily format plain text. The text can be for example __bolded__, _italicized_ or ~~sriked out~~.\n",
    "\n",
    ">For example this kind of blockquote can be added in the text.\n",
    "\n",
    "Also lists are easy to create with Markdown.\n",
    "\n",
    "Shopping list:\n",
    "- tomatoes\n",
    "- milk\n",
    "- coffee\n",
    "\n",
    "In this tutorial the Markdown formatting commands are not handled more accaurately but a good list of different commands can be found for example from the web page https://github.com/adam-p/markdown-here/wiki/Markdown-Cheatsheet. You can also enter the edit mode in this Markdown cell and see how the different formats have been made."
   ]
  },
  {
   "cell_type": "markdown",
   "metadata": {},
   "source": [
    "### Heading cell"
   ]
  },
  {
   "cell_type": "markdown",
   "metadata": {},
   "source": [
    "Heading cells are in fact not even own cell types but more likely shortcuts for creating headings. That is because heading cells also use Markdown, so basically they are Markdown cells.\n",
    "\n",
    "Differently leveled headings are determined in Markdown with # characters. Below there are the heading levels that are in use in Jupyter starting from # tagged, continuing to ## tagged and ending in ###### tagged heading."
   ]
  },
  {
   "cell_type": "markdown",
   "metadata": {},
   "source": [
    "# First heading type"
   ]
  },
  {
   "cell_type": "markdown",
   "metadata": {},
   "source": [
    "## Second heading type"
   ]
  },
  {
   "cell_type": "markdown",
   "metadata": {},
   "source": [
    "### Third heading type"
   ]
  },
  {
   "cell_type": "markdown",
   "metadata": {},
   "source": [
    "#### Fourth heading type"
   ]
  },
  {
   "cell_type": "markdown",
   "metadata": {},
   "source": [
    "##### Fifth heading type"
   ]
  },
  {
   "cell_type": "markdown",
   "metadata": {},
   "source": [
    "###### Sixth heading type"
   ]
  },
  {
   "cell_type": "markdown",
   "metadata": {},
   "source": [
    "Shortcuts for the different heading types are found from the buttons _1–6_. Practically when the user determines the cell to the heading cell, Jupyter will automatically change the cell to Markdown cell and write the needed amount of # characters.\n",
    "\n",
    "Even though the heading cells and Markdown cells are basically same, it is recommended to keep headings in their own cells separated from text. That makes the compiling of the text easier for the program."
   ]
  },
  {
   "cell_type": "markdown",
   "metadata": {},
   "source": [
    "### Code cell"
   ]
  },
  {
   "cell_type": "markdown",
   "metadata": {},
   "source": [
    "Programming code in selected programming language (kernel determines the language) can be written in code cells. For example if the notebook uses Python 3 kernel, Python 3 commands can be run in code cells. If some other programming language is written in the code cells, the code won't be compiled because it would be interpreted as Python 3 code.\n",
    "\n",
    "The code written in code cells behave similarly than in other programming environments. This is possible because of the IPython kernel. Running the code is in summary is based on the connection between the notebook and the kernel. The code is actually run in the kernel. The kernel will communicate with the notebook and give the results of the run. The results of running the code will be seen in the _output_ part below the code cell.\n",
    "\n",
    "For example in the code cell below the result of the calculation 3 + 4 is saved in the variable _result_. After that the value of the _result_ is asked to be shown. When the code is run, the creation of the variable and the calculation are done in the kernel. After that the kernel will return the results to the notebook and the number 7 is appeared in the _output_ part."
   ]
  },
  {
   "cell_type": "code",
   "execution_count": 2,
   "metadata": {},
   "outputs": [
    {
     "data": {
      "text/plain": [
       "7"
      ]
     },
     "execution_count": 2,
     "metadata": {},
     "output_type": "execute_result"
    }
   ],
   "source": [
    "result = 3 + 4\n",
    "result"
   ]
  },
  {
   "cell_type": "markdown",
   "metadata": {},
   "source": [
    "The output of the code cell isn't restricted to numbers or text only. Output can also be for example a graph. In the code cell below different number pairs are plotted with the _matplotlib_ module and the output will be a graph."
   ]
  },
  {
   "cell_type": "code",
   "execution_count": null,
   "metadata": {},
   "outputs": [],
   "source": [
    "import matplotlib.pyplot as plt\n",
    "% matplotlib inline\n",
    "\n",
    "numbers = [1,2,3,6,7,8,12,16]\n",
    "plt.plot(numbers, 'ro')\n",
    "plt.show()"
   ]
  },
  {
   "cell_type": "markdown",
   "metadata": {},
   "source": [
    "### Adding images and videos to notebook "
   ]
  },
  {
   "cell_type": "markdown",
   "metadata": {},
   "source": [
    "There are different ways for adding images and videos to notebooks. Here adding images and videos with HTML is showed."
   ]
  },
  {
   "cell_type": "markdown",
   "metadata": {},
   "source": [
    "#### Adding an image"
   ]
  },
  {
   "cell_type": "markdown",
   "metadata": {},
   "source": [
    "Because Jupyter uses Markdown language, some HTML tags will work straight in Markdown cells. For example adding the _Test-image.png_ named image could be done by writing the following HTML tag straight in the Markdown cell:\n",
    "\n",
    "```<img src=\"path/test-image.png\">```"
   ]
  },
  {
   "cell_type": "markdown",
   "metadata": {},
   "source": [
    "In the example above the image has to be in the same directory than the notebook. It has to be told in the HTML tag if the image that will be added to the notebook will be in some other directory than the notebook. A good example of referring to directories in different cases can be found from https://stackoverflow.com/questions/14489016/how-to-properly-reference-local-resources-in-html.\n",
    "\n",
    "Let's for example take the situation where there is in the same directory than the notebook the folder named _Images_ which contains the file _test-image.png_.\n",
    "\n",
    "<img src=\"../Images/Example.png\" align=\"left\" width=\"500\">\n",
    "<br>\n",
    "<br>\n",
    "<br>\n",
    "<br>\n",
    "<br>\n",
    "<br>\n",
    "<br>\n",
    "<br>\n",
    "<br>\n",
    "<br>\n",
    "<br>\n",
    "Adding the image to the notebook could be done with the following tag:\n",
    "\n",
    "```<img src=\"Images/Test-image.png\">```\n",
    "\n",
    "If you are reading the tutorial in Jupyter you can also check how the images in this tutorial are written in the Markdown cells by entering in edit mode."
   ]
  },
  {
   "cell_type": "markdown",
   "metadata": {},
   "source": [
    "#### Formatting images"
   ]
  },
  {
   "cell_type": "markdown",
   "metadata": {},
   "source": [
    "Information for example about the position and the size of the image can be added to the HTML tag. For example the image in the previous example is aligned to left with the following tag:\n",
    "\n",
    "```<img src=\"Images/Testikuva.png\" align=\"left\">```.\n",
    "\n",
    "Selecting the size is possible by telling the wanted size in pixels, for example\n",
    "\n",
    "```<img src=\"Images/Testikuva.png\" width=\"80\" height=\"50\">```.\n",
    "\n",
    "More information about the HTML image tags can be found for example from https://www.w3schools.com/tags/tag_img.asp."
   ]
  },
  {
   "cell_type": "markdown",
   "metadata": {},
   "source": [
    "#### Adding a video"
   ]
  },
  {
   "cell_type": "markdown",
   "metadata": {},
   "source": [
    "Adding a video in notebook can also be done with HTML tags. Determining the directory of the video is done similarly than with the image (see section _Adding an image_ above). For example the _Test-video.mp4_ which is in the same directory than the notebook can be added to the notebook with the following tag:\n",
    "\n",
    "```<video src=\"Test-video.mp4\" type=\"video/mp4\" controls>```"
   ]
  },
  {
   "cell_type": "markdown",
   "metadata": {},
   "source": [
    "In the tag the _type_ determines the file format of the video which is in this example .mp4. Command _controls_ creates the buttons that are needed to play the video. More information about the HTML video tags can be found from https://www.w3schools.com/tags/tag_video.asp.\n",
    "\n",
    "The video added in the notebook can for example look like this:\n",
    "\n",
    "<video src=\"Videos/Testivideo.mp4\" type=\"video/mp4\" controls>"
   ]
  },
  {
   "cell_type": "markdown",
   "metadata": {},
   "source": [
    "### Jupyter and $\\LaTeX$"
   ]
  },
  {
   "cell_type": "markdown",
   "metadata": {},
   "source": [
    "Jupyter Notebook also supports $\\LaTeX$ formatting. With $\\LaTeX$ for example mathematical equations can be easily created. In Jupyter $\\LaTeX$ can be written in Markdown cells by separating it from the other text with $\\$$ characters. Command $\\$...\\$$ produces material inline with the text (inline mode) and command $\\$\\$...\\$\\$$ produces material separated from the text (displayed mode). The $\\LaTeX$ code would be written in the $...$ section.\n",
    "\n",
    "Inline mode looks like this: $\\sin(x) = \\frac{3}{4}$ and displayed mode like this:\n",
    "\n",
    "$$\\int_2^3{cos(x)} = \\frac{23}{45}$$\n",
    "\n",
    "More information about the $\\LaTeX$ can be found from https://www.latex-project.org/."
   ]
  },
  {
   "cell_type": "markdown",
   "metadata": {},
   "source": [
    "### Saving the notebook and using the dashboard"
   ]
  },
  {
   "cell_type": "markdown",
   "metadata": {},
   "source": [
    "Saving the notebook can be done easiest by pressing _s_ button in the command mode. Notebook can also be saved by selecting _File_ -> _Save and Checkpoint_ from the menu or by clicking the saving icon from the left of the toolbar:\n",
    "\n",
    "<img src=\"Images/Tallennus.png\" align=\"left\">\n",
    "<br>\n",
    "<br>\n",
    "Notebooks will be saved in .ipynb file format. Saved notebooks can be looked and opened with the dashboard.\n",
    "<br>\n",
    "<br>\n",
    "<img src=\"Images/Dashboard.png\" align=\"center\">\n",
    "In the dashboard the _Files_ tab is for exploring the files and the _Running_ tab for exploring the Jupyter processes which are running. In this tutorial the _Clusters_ tab is not handled.\n",
    "\n",
    "_Files_ shows the content of the place where Jupyter saves files (computer, server, cloud service). In the _Files_ tab notebooks can be opened, deleted, duplicated and renamed. If a logo of some notebook is green (check the image above) it means that the notebook is running.\n",
    "\n",
    "Jupyter don't automatically shut down notebooks and disconnect them from the kernel when tabs that contain the notebooks are closed. In stead the notebooks must be shutted down manually after the use. This can be done by two different ways. The first way is to click the running notebook active in the _Files_ tab and to click the button _Shutdown_ (in the image below) that will appear.\n",
    "<br>\n",
    "<br>\n",
    "<img src=\"Images/Shutdown.png\" align=\"left\">\n",
    "<br>\n",
    "<br>\n",
    "<br>\n",
    "<br>\n",
    "<br>\n",
    "<br>\n",
    "The second way to shut down the notebook is to open the _Running_ tab and then click the button _Shutdown_ on the right of the name of the notebook:\n",
    "<br>\n",
    "<br>\n",
    "<img src=\"Images/Running.png\" align=\"left\">"
   ]
  },
  {
   "cell_type": "markdown",
   "metadata": {},
   "source": [
    "### Using the notebooks"
   ]
  },
  {
   "cell_type": "markdown",
   "metadata": {},
   "source": [
    "Ready notebooks can be used in two different ways: as interactive versions or as static versions. When notebooks are opened in Jupyter, the interactivity of the notebooks will remain. This means that the user can run the cells and edit them. Additionally notebooks can be viewed also as static versions. Then the content of the cells is viewable but the cells can't be run or edited. Jupyter Notebook application is not needed for viewing the static versions.\n",
    "\n",
    "Static versions of notebooks can be created with different ways. A notebook can be for example saved as a .html file (which can be viewed in a browser) by selecting _File_ -> _Download as_ -> _HTML_ from the menu. Another handy way to view static notebooks is __nbviewer__ application (https://nbviewer.jupyter.org/). With nbviewer it is possible to view online published notebooks as static .html versions. Either the url of the notebook or the GitHub username (if the notebook is saved in GitHub (https://github.com/)) is given to nbviewer."
   ]
  },
  {
   "cell_type": "markdown",
   "metadata": {},
   "source": [
    "### Possible problems and solutions"
   ]
  },
  {
   "cell_type": "markdown",
   "metadata": {},
   "source": [
    "##### Running the code cell takes too much time"
   ]
  },
  {
   "cell_type": "markdown",
   "metadata": {},
   "source": [
    "Sometimes running incorrect or too complex code cell can jam Jupyter. Running the code cell can be interrupted by selecting _Kernel_ -> _Interrupt_ from the menu or by clicking the _interrupt kernel_ button (in the image below) from the toolbar.\n",
    "\n",
    "<img src=\"Images/Interrupt.png\" align=\"left\">\n",
    "<br>\n",
    "<br>\n",
    "\n",
    "The code cell which is still running can be recognized by the asterisk inside the _In_ mark on the left side of the cell\n",
    "\n",
    "<img src=\"Images/Busy.png\" align=\"left\">\n",
    "<br>\n",
    "<br>\n",
    "\n",
    "or by the _(busy)_ text shown in the name of the tab of the notebook."
   ]
  },
  {
   "cell_type": "markdown",
   "metadata": {},
   "source": [
    "##### Connection to the kernel is lost"
   ]
  },
  {
   "cell_type": "markdown",
   "metadata": {},
   "source": [
    "Notebook can lost a connection to a kernel where it is connected. Broken connection can be seen from the icon on the right side of the menu. When the kernel is functioning normally the icon looks like an entire ball\n",
    "\n",
    "<img src=\"Images/Toimiva.png\" align=\"left\">\n",
    "<br>\n",
    "<br>\n",
    "but when the connection is lost the icon looks like a broken ball.\n",
    "\n",
    "<img src=\"Images/Yhteyskatko.png\" align=\"left\">\n",
    "<br>\n",
    "<br>\n",
    "\n",
    "The connection can by tried to made work again by reconnecting the notebook to the kernel. This can be done by selecting _Kernel_ -> _Reconnect_ from the menu.\n",
    "\n",
    "If the reconnecting won't help, the restarting of the kernel can be tried. It has to be noted that all variables created in notebook will be disappeared when the kernel starts again. The restart can be done by selecting _Kernel_ -> _Restart_ from the menu or by clicking the _restart the kernel (with dialog)_ button from the toolbar:\n",
    "\n",
    "<img src=\"Images/Restart.png\" align=\"left\">\n",
    "<br>\n",
    "<br>"
   ]
  },
  {
   "cell_type": "markdown",
   "metadata": {},
   "source": [
    "##### The code cell won't be compiled when it is run"
   ]
  },
  {
   "cell_type": "markdown",
   "metadata": {},
   "source": [
    "If the code cell won't be compiled right when it is run, the possible reasons can be for example incorrectly written code or accidentally selected wrong cell type. For example if code is written in Markdown cell it won't do the actions it is meant to but will just be transferred to text.\n",
    "\n",
    "Also a wrong kernel can be a reason for unwanted behaviour of a code cell. The kernel will determine in which programming language the code written in code cells are handled."
   ]
  },
  {
   "cell_type": "markdown",
   "metadata": {},
   "source": [
    "### Other notes"
   ]
  },
  {
   "cell_type": "markdown",
   "metadata": {},
   "source": [
    "This tutorial includes information about starting the usage of Jupyter Notebook. In addition to these basics Jupyter offers lots of different possibilities for example for calculations, data-analysis, teaching or learning of programming. A good way to learn the usage of Jupyter or programming is to challenge oneself. _What will this piece of code do? How could I write a notebook that would calculate an average of grades? Could it be possible to do a histogram from the grades?_\n",
    "\n",
    "Page https://github.com/jupyter/jupyter/wiki/A-gallery-of-interesting-Jupyter-Notebooks includes lots of interesting examples about notebooks created. These examples provide a picture about which kind of material it is possible to do with Jupyter Notebook.\n",
    "\n",
    "Have a nice time with Jupyter!"
   ]
  }
 ],
 "metadata": {
  "kernelspec": {
   "display_name": "Python 3",
   "language": "python",
   "name": "python3"
  },
  "language_info": {
   "codemirror_mode": {
    "name": "ipython",
    "version": 3
   },
   "file_extension": ".py",
   "mimetype": "text/x-python",
   "name": "python",
   "nbconvert_exporter": "python",
   "pygments_lexer": "ipython3",
   "version": "3.6.1"
  }
 },
 "nbformat": 4,
 "nbformat_minor": 1
}
